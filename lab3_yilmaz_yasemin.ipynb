{
 "cells": [
  {
   "cell_type": "code",
   "execution_count": 4,
   "id": "e6466098-f32e-4a54-8b41-aeaa379e5b46",
   "metadata": {},
   "outputs": [
    {
     "name": "stdout",
     "output_type": "stream",
     "text": [
      "0.5\n"
     ]
    }
   ],
   "source": [
    "x = 0.5\n",
    "if x>=1:\n",
    "    y = 1\n",
    "elif x>= 0:\n",
    "    y = x\n",
    "else:\n",
    "    y=0\n",
    "print(y)\n",
    "\n",
    "\n"
   ]
  },
  {
   "cell_type": "code",
   "execution_count": 5,
   "id": "ae281ab4-f334-456f-8f7a-1ce6117502eb",
   "metadata": {},
   "outputs": [
    {
     "name": "stdout",
     "output_type": "stream",
     "text": [
      "x is 0.5 , y is 0.5\n"
     ]
    }
   ],
   "source": [
    "print('x is', x, ', y is', y )"
   ]
  },
  {
   "cell_type": "code",
   "execution_count": 17,
   "id": "8cafd39d-8709-4b0a-a10e-43a8fcf2c732",
   "metadata": {},
   "outputs": [
    {
     "name": "stdout",
     "output_type": "stream",
     "text": [
      "[1192.5, 4386.0, 12072.5, 22548.0, 17032.0, 131538.75]\n"
     ]
    }
   ],
   "source": [
    "#pre-calculate how much tax you will pay in the first six brackets (2 points)\n",
    "#assuming you are single\n",
    "A=[None, None, None, None, None,None]\n",
    "#your code to set values in the list A\n",
    "#A[0]=???\n",
    "\n",
    "A[0] = 11925 * 0.10\n",
    "A[1] = (48475 - 11925) * 0.12\n",
    "A[2] = (103350 - 48475) * 0.22\n",
    "A[3] = (197300- 103350) * 0.24\n",
    "A[4] = (250525 - 197300) * 0.32\n",
    "A[5] = (626350 - 250525) * 0.35\n",
    "\n",
    "print(A)"
   ]
  },
  {
   "cell_type": "code",
   "execution_count": 41,
   "id": "aeb97e97-9095-4768-a86b-b0ae7daf7c40",
   "metadata": {},
   "outputs": [
    {
     "name": "stdin",
     "output_type": "stream",
     "text": [
      "Enter your income:  12345678\n"
     ]
    },
    {
     "name": "stdout",
     "output_type": "stream",
     "text": [
      "income is :  12345678 tax is:  4524921.11\n"
     ]
    }
   ],
   "source": [
    "\n",
    "A[0] = 11925 * 0.10\n",
    "A[1] = (48475 - 11925) * 0.12\n",
    "A[2] = (103350 - 48475) * 0.22\n",
    "A[3] = (197300 - 103350) * 0.24\n",
    "A[4] = (250525 - 197300) * 0.32\n",
    "A[5] = (626350 - 250525) * 0.35\n",
    "\n",
    "income = int(input(\"Enter your income: \")) \n",
    "tax = None\n",
    "\n",
    "if income <= 11925:\n",
    "    tax = income * 0.10\n",
    "\n",
    "elif 11925 < income <= 48475:\n",
    "    tax = A[0] + (1925 - A[0])*0.12\n",
    "\n",
    "elif 48475 < income <= 103350:\n",
    "    tax = A[0] + A[1] + (income - 48475)*0.22 \n",
    "\n",
    "elif 103350 < income <= 197300:\n",
    "    tax = A[0] + A[1] + A[2] + (income - 103350)*0.24 \n",
    "\n",
    "elif 197300 < income <= 250525 :\n",
    "    tax = A[0] + A[1] +A[2] +A[3] +(income - 197300)*0.32 \n",
    "\n",
    "elif 250525 < income <= 626350:\n",
    "    tax = A[0] + A[1] +A[2] +A[3] +A[4] + (income-250525)*0.35 \n",
    "\n",
    "else: \n",
    "   tax = A[0] + A[1] +A[2] +A[3] +A[4] + A[5] + (income-626350)*0.37\n",
    "    \n",
    "\n",
    "print(\"income is : \", income, \"tax is: \", tax)\n",
    "    \n",
    "\n"
   ]
  },
  {
   "cell_type": "code",
   "execution_count": null,
   "id": "479cb081-27d6-4859-a68b-efccea19502d",
   "metadata": {},
   "outputs": [],
   "source": []
  }
 ],
 "metadata": {
  "kernelspec": {
   "display_name": "Python (ds)",
   "language": "python",
   "name": "ds"
  },
  "language_info": {
   "codemirror_mode": {
    "name": "ipython",
    "version": 3
   },
   "file_extension": ".py",
   "mimetype": "text/x-python",
   "name": "python",
   "nbconvert_exporter": "python",
   "pygments_lexer": "ipython3",
   "version": "3.12.11"
  }
 },
 "nbformat": 4,
 "nbformat_minor": 5
}
