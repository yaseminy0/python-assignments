{
 "cells": [
  {
   "cell_type": "code",
   "execution_count": 1,
   "id": "985862b7-1435-4ca9-a95b-20a733cf0405",
   "metadata": {},
   "outputs": [],
   "source": [
    "#run the code below\n",
    "x1=1.23\n",
    "x2=x1\n",
    "x1=2.34"
   ]
  },
  {
   "cell_type": "code",
   "execution_count": 3,
   "id": "773698f6-f0d1-4134-a8bd-0360ea88fcef",
   "metadata": {},
   "outputs": [
    {
     "data": {
      "text/plain": [
       "False"
      ]
     },
     "execution_count": 3,
     "metadata": {},
     "output_type": "execute_result"
    }
   ],
   "source": [
    "#LAB 2.1\n",
    "#1 point\n",
    "#your code to figure out if x1 and x2 refer to the same object (i.e., two names of the same object)\n",
    "#hint: use the function id and the function print\n",
    "id(x1)==id(x2)"
   ]
  },
  {
   "cell_type": "code",
   "execution_count": 4,
   "id": "2d59e866-d8dc-41cf-a315-241f7d955a38",
   "metadata": {},
   "outputs": [],
   "source": [
    "#1 point\n",
    "#explain your code and your answer in English\n",
    "\n",
    "#it is not the same object because after reassign x1, the address in the computer memory has been changed.\n"
   ]
  },
  {
   "cell_type": "code",
   "execution_count": 5,
   "id": "8af652fc-b560-4e0e-992f-1697934a423e",
   "metadata": {},
   "outputs": [],
   "source": [
    "\n",
    "#\"remove\" the two variables\n",
    "\n",
    "del x1, x2\n"
   ]
  },
  {
   "cell_type": "code",
   "execution_count": 6,
   "id": "4c8e7b72-c991-41ee-a054-32e0107237b3",
   "metadata": {},
   "outputs": [],
   "source": [
    "\n",
    "#LAB 2.2\n",
    "# run the code below\n",
    "y1 = [1, 2, 3]\n",
    "y2 = y1\n",
    "y2[0] = 100 "
   ]
  },
  {
   "cell_type": "code",
   "execution_count": 7,
   "id": "e7f28d0d-2d9a-4662-851f-071123e1b3c2",
   "metadata": {},
   "outputs": [],
   "source": [
    "#1 point\n",
    "#your code to figure out if y1 and y2 refer to the same object\n",
    "#hint: use the function id and the function print"
   ]
  },
  {
   "cell_type": "code",
   "execution_count": 8,
   "id": "68fe6902-3bd2-4071-91f8-0032953364c2",
   "metadata": {},
   "outputs": [],
   "source": [
    "#explain your code and your answer in English\n",
    "\n",
    "#they refer to same object because at the beginning it created one id and when y2 has changed one object, it is also changed in y1.\n"
   ]
  },
  {
   "cell_type": "code",
   "execution_count": 9,
   "id": "220999a1-4c43-4723-a6da-fe79c488d9c6",
   "metadata": {},
   "outputs": [],
   "source": [
    "#explain your code and your answer in English\n",
    "\n",
    "#they refer to same object because at the beginning it created one id and when y2 has changed one object, it is also changed in y1.\n"
   ]
  },
  {
   "cell_type": "code",
   "execution_count": 10,
   "id": "7b90af81-aed3-4fe5-bc2a-20c37bff526d",
   "metadata": {},
   "outputs": [],
   "source": [
    "# run the code below\n",
    "y3 = [1, 2, 3]\n",
    "y4 = [1, 2, 3]\n"
   ]
  },
  {
   "cell_type": "code",
   "execution_count": 12,
   "id": "1236575e-f0bf-4eb7-9e66-9c1f17ecca9d",
   "metadata": {},
   "outputs": [
    {
     "data": {
      "text/plain": [
       "False"
      ]
     },
     "execution_count": 12,
     "metadata": {},
     "output_type": "execute_result"
    }
   ],
   "source": [
    "#1 point\n",
    "#your code to figure out if y3 and y4 refer to the same object\n",
    "#hint: use the function id and the function print\n",
    "id(y3) == id(y4)"
   ]
  },
  {
   "cell_type": "code",
   "execution_count": 13,
   "id": "47edef82-1eda-4d74-8b85-db700d1c8a27",
   "metadata": {},
   "outputs": [],
   "source": [
    "#1 point\n",
    "#explain your code and your answer in English\n",
    "\n",
    "#y3 and y4 are not refer to the same object because they were created as two different list objects with different memory addresses (different ids), even though their contents are equal.\n"
   ]
  },
  {
   "cell_type": "code",
   "execution_count": 14,
   "id": "82ebfc2e-c3f7-4a60-a86a-b9deb468f6ac",
   "metadata": {},
   "outputs": [],
   "source": [
    "del y3,y4"
   ]
  },
  {
   "cell_type": "code",
   "execution_count": 15,
   "id": "66be89c8-438d-44af-8f7f-7cb7661b3f74",
   "metadata": {},
   "outputs": [],
   "source": [
    "# run the code below\n",
    "s1 = 'Python'\n",
    "s2 = 'Python'"
   ]
  },
  {
   "cell_type": "code",
   "execution_count": 16,
   "id": "ae5e8c2e-f4c7-41b4-b5a4-499b9fdd51ab",
   "metadata": {},
   "outputs": [
    {
     "data": {
      "text/plain": [
       "True"
      ]
     },
     "execution_count": 16,
     "metadata": {},
     "output_type": "execute_result"
    }
   ],
   "source": [
    "#1 point\n",
    "#your code to figure out if s1 and s2 refer to the same object\n",
    "#hint: use the function id and the function print\n",
    "\n",
    "id(s1) == id(s2)"
   ]
  },
  {
   "cell_type": "code",
   "execution_count": 17,
   "id": "8dff6da9-0fce-48fb-8b9c-73e4a18ee449",
   "metadata": {},
   "outputs": [],
   "source": [
    "\n",
    "# s1 and s2 refer to the same object because Python automatically interns\n",
    "# short string literals. Since both variables were assigned the same string\n",
    "# 'Python', they point to the same memory location, so id(s1) == id(s2).\n"
   ]
  },
  {
   "cell_type": "code",
   "execution_count": 18,
   "id": "37bdce65-1f83-4b1f-8d99-af60f7964ad4",
   "metadata": {},
   "outputs": [],
   "source": [
    "del s1,s2"
   ]
  },
  {
   "cell_type": "code",
   "execution_count": 20,
   "id": "7f11ee9a-d717-4ca8-9918-5fbf996b0acc",
   "metadata": {},
   "outputs": [],
   "source": [
    "# run the code below\n",
    "s3 = 'Python is great'\n",
    "s4 = 'Python is great'\n"
   ]
  },
  {
   "cell_type": "code",
   "execution_count": 21,
   "id": "2155bf3c-8dc4-40fe-8c1e-952495a9bbd2",
   "metadata": {},
   "outputs": [
    {
     "data": {
      "text/plain": [
       "False"
      ]
     },
     "execution_count": 21,
     "metadata": {},
     "output_type": "execute_result"
    }
   ],
   "source": [
    "#1 point\n",
    "#your code to figure out if s3 and s4 refer to the same object\n",
    "#hint: use the function id and the function print\n",
    "id(s3)==id(s4)\n"
   ]
  },
  {
   "cell_type": "code",
   "execution_count": 22,
   "id": "d41cf48a-0b69-4904-b681-734433204de3",
   "metadata": {},
   "outputs": [],
   "source": [
    "#1 point\n",
    "#explain your code and your answer in English\n",
    "\n",
    "# s3 and s4 usually refer to the same object because Python may reuse\n",
    "# identical string literals (string interning). In this case, since both\n",
    "# variables were assigned exactly 'Python is great', they point to the same\n",
    "# memory location."
   ]
  },
  {
   "cell_type": "code",
   "execution_count": 23,
   "id": "972d7f92-1305-48c7-9702-5900ce592e4e",
   "metadata": {},
   "outputs": [],
   "source": [
    "del s3,s4"
   ]
  },
  {
   "cell_type": "code",
   "execution_count": null,
   "id": "791496d4-78e3-4d87-8c1d-6d78eae59687",
   "metadata": {},
   "outputs": [],
   "source": []
  }
 ],
 "metadata": {
  "kernelspec": {
   "display_name": "Python (ds)",
   "language": "python",
   "name": "ds"
  },
  "language_info": {
   "codemirror_mode": {
    "name": "ipython",
    "version": 3
   },
   "file_extension": ".py",
   "mimetype": "text/x-python",
   "name": "python",
   "nbconvert_exporter": "python",
   "pygments_lexer": "ipython3",
   "version": "3.12.11"
  }
 },
 "nbformat": 4,
 "nbformat_minor": 5
}
