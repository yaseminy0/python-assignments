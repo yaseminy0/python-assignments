{
 "cells": [
  {
   "cell_type": "markdown",
   "id": "4bea19a2-9909-4a53-9672-75a28d1de0f1",
   "metadata": {},
   "source": [
    "# Lab 8: classes (14 points)"
   ]
  },
  {
   "cell_type": "markdown",
   "id": "ce528b85-fc98-44e8-beba-4818c1b58aa2",
   "metadata": {},
   "source": [
    "<div>\n",
    "<img src=\"fig5.png\" width=\"800\"/>\n",
    "</div>"
   ]
  },
  {
   "cell_type": "markdown",
   "id": "41ae6968-7eb7-456d-bc75-ffbb8f97476a",
   "metadata": {},
   "source": [
    "Your task is to implement those classes: \\\n",
    "(1) Each class has a constructor to initialize variables \\\n",
    "(2) Each class has at least two instance methods and two instance variables \\\n",
    "(3) Test the classes by creating instance objects \\\n",
    "Read the outputs from the test code to figure out how to implement the classes \\\n",
    "2 points per class"
   ]
  },
  {
   "cell_type": "code",
   "execution_count": 49,
   "id": "d6d8dd90-474a-4022-8eb7-6bc2f5623f62",
   "metadata": {},
   "outputs": [
    {
     "name": "stdout",
     "output_type": "stream",
     "text": [
      "a FlyingThing flying_object at the height of 100\n",
      "{'name': 'flying_object', 'height': 100}\n"
     ]
    }
   ],
   "source": [
    "class FlyingThing:\n",
    "    def __init__ (self,name, height = 0):\n",
    "        \n",
    "        self.name = name\n",
    "        self.height = height\n",
    "    def fly(self, height):\n",
    "        self.height = height\n",
    "\n",
    "    def print(self):\n",
    "        \n",
    "        print(f\"a FlyingThing {self.name} at the height of {self.height}\") \n",
    "\n",
    "f1 = FlyingThing(\"flying_object\")\n",
    "f1.fly(100)\n",
    "f1.print()\n",
    "print(f1.__dict__)\n"
   ]
  },
  {
   "cell_type": "code",
   "execution_count": 106,
   "id": "4ebe562b-f80d-4b29-9e84-aa3a4fb28129",
   "metadata": {},
   "outputs": [
    {
     "name": "stdout",
     "output_type": "stream",
     "text": [
      " an AirPlane airplane_object made by Boeing is flying at the height of 1000\n",
      "{'name': 'airplane_object', 'height': 1000, 'maker': 'Boeing'}\n"
     ]
    }
   ],
   "source": [
    "class AirPlane(FlyingThing):\n",
    "    def __init__(self, name, height = 0, maker = ''):\n",
    "        super().__init__(name, height)  \n",
    "        self.maker=maker\n",
    "\n",
    "    def set_maker(self, maker):\n",
    "        self.maker = maker\n",
    "\n",
    "    def print(self):\n",
    "        \n",
    "        print(f\" an AirPlane {self.name} made by {self.maker} is flying at the height of {self.height}\")\n",
    "ap = AirPlane(\"airplane_object\", maker=\"Boeing\")\n",
    "ap.fly(1000)\n",
    "ap.print()\n",
    "print(ap.__dict__)\n",
    "  "
   ]
  },
  {
   "cell_type": "code",
   "execution_count": 121,
   "id": "c8235c20-2525-43ea-b28b-33aff80efebd",
   "metadata": {},
   "outputs": [
    {
     "name": "stdout",
     "output_type": "stream",
     "text": [
      " a Helicopter helicopter_object made by ben is flying at the height of 100\n",
      "{'name': 'helicopter_object', 'height': 100, 'maker': 'ben'}\n"
     ]
    }
   ],
   "source": [
    "class Helicopter(FlyingThing):\n",
    "    def __init__(self, name, height = 0, maker = ''):\n",
    "        super().__init__(name,height)   \n",
    "        self.maker = maker\n",
    "        \n",
    "    def set_maker(self, maker):\n",
    "        self.maker = maker\n",
    "\n",
    "    def print(self):\n",
    "        \n",
    "        print(f\" a Helicopter {self.name} made by {self.maker} is flying at the height of {self.height}\")\n",
    "\n",
    "\n",
    "ap2 = Helicopter(\"helicopter_object\", 100, \"ben\")\n",
    "ap2.print()\n",
    "print(ap2.__dict__)"
   ]
  },
  {
   "cell_type": "code",
   "execution_count": 77,
   "id": "b3780b71-d047-4a17-8793-a6c3633dded7",
   "metadata": {},
   "outputs": [
    {
     "name": "stdout",
     "output_type": "stream",
     "text": [
      "a Vehicle car is moving at the speed of 70\n"
     ]
    }
   ],
   "source": [
    "class Vehicle:\n",
    "    def __init__(self,name, speed = 0):\n",
    "        self.name = name\n",
    "        self.speed = speed\n",
    "    def move (self, speed):\n",
    "        self.speed = speed\n",
    "    def print (self):\n",
    "        print(f\"a Vehicle {self.name} is moving at the speed of {self.speed}\")\n",
    "\n",
    "v = Vehicle(\"car\", speed = 70)\n",
    "\n",
    "v.print()"
   ]
  },
  {
   "cell_type": "code",
   "execution_count": 123,
   "id": "bd86b61b-4987-458f-b783-beaee603b7f1",
   "metadata": {},
   "outputs": [
    {
     "name": "stdout",
     "output_type": "stream",
     "text": [
      "a Car car_object made by Toyota is moving at the speed of 80\n",
      "{'name': 'car_object', 'speed': 80, 'maker': 'Toyota'}\n"
     ]
    }
   ],
   "source": [
    "class Car(Vehicle):\n",
    "    def __init__(self, name, speed = 0, maker = ''):\n",
    "        super().__init__(name,speed ) \n",
    "        self.maker = maker\n",
    "        \n",
    "    def set_maker(self, maker):\n",
    "        self.maker = maker\n",
    "    \n",
    "    def print(self):\n",
    "        print(f\"a Car {self.name} made by {self.maker} is moving at the speed of {self.speed}\")\n",
    "        \n",
    "c = Car(\"car_object\", maker=\"Toyota\", speed=80)\n",
    "c.print()\n",
    "print(c.__dict__)"
   ]
  },
  {
   "cell_type": "code",
   "execution_count": 124,
   "id": "d1904ea3-f540-41e6-be90-cac46b0bd4c1",
   "metadata": {},
   "outputs": [
    {
     "name": "stdout",
     "output_type": "stream",
     "text": [
      "a Truck truck_object made by Volvo is moving at the speed of 60\n",
      "{'name': 'truck_object', 'speed': 60, 'maker': 'Volvo'}\n"
     ]
    }
   ],
   "source": [
    "class Truck(Vehicle):\n",
    "    def __init__(self, name, speed = 0, maker = ''):\n",
    "        super().__init__(name, speed)\n",
    "        self.maker = maker\n",
    "        \n",
    "        \n",
    "    def set_maker(self, maker):\n",
    "        self.maker = maker\n",
    "\n",
    "    def print(self):\n",
    "        print(f\"a Truck {self.name} made by {self.maker} is moving at the speed of {self.speed}\")\n",
    "\n",
    "t = Truck(\"truck_object\", maker=\"Volvo\", speed=60)\n",
    "t.print()\n",
    "print(t.__dict__)"
   ]
  },
  {
   "cell_type": "code",
   "execution_count": 133,
   "id": "041e0647-4b2b-4a9d-8109-5af2a728611b",
   "metadata": {},
   "outputs": [
    {
     "name": "stdout",
     "output_type": "stream",
     "text": [
      " a FlyingCar flyingcar_object made by Tesla is flying at the height of 300 with the speed of 200\n",
      "{'name': 'flyingcar_object', 'height': 300, 'speed': 200, 'maker': 'Tesla'}\n"
     ]
    }
   ],
   "source": [
    "class FlyingCar(FlyingThing, Car):\n",
    "    def __init__(self, name, height=0, speed=0, maker=''):\n",
    "        FlyingThing.__init__(self,name,height)  \n",
    "        Car.__init__(self,name,speed, maker)\n",
    "\n",
    "    def print (self):\n",
    "        print(f\" a FlyingCar {self.name} made by {self.maker} is flying at the height of {self.height} with the speed of {self.speed}\")\n",
    "\n",
    "fc = FlyingCar(\"flyingcar_object\", maker=\"Tesla\", height=300, speed=200)\n",
    "fc.print()\n",
    "print(fc.__dict__)"
   ]
  },
  {
   "cell_type": "markdown",
   "id": "f7277ff1-c81c-43bf-8577-6af9726a8e98",
   "metadata": {},
   "source": [
    "### Test the above classes  (do not modify the cells below)"
   ]
  },
  {
   "cell_type": "code",
   "execution_count": 134,
   "id": "33610f64-8d5f-410b-854e-df97b8891fb9",
   "metadata": {},
   "outputs": [
    {
     "name": "stdout",
     "output_type": "stream",
     "text": [
      "a FlyingThing flying_object at the height of 100\n",
      "{'name': 'flying_object', 'height': 100}\n"
     ]
    }
   ],
   "source": [
    "flying_object=FlyingThing(name='flying_object')\n",
    "flying_object.fly(height=100)\n",
    "flying_object.print()     \n",
    "print(flying_object.__dict__)"
   ]
  },
  {
   "cell_type": "code",
   "execution_count": 135,
   "id": "be00ac98-b361-4a72-9a62-93eb3a9be6fd",
   "metadata": {
    "scrolled": true
   },
   "outputs": [
    {
     "name": "stdout",
     "output_type": "stream",
     "text": [
      " an AirPlane airplane_object made by Boeing is flying at the height of 1000\n",
      "{'name': 'airplane_object', 'height': 1000, 'maker': 'Boeing'}\n"
     ]
    }
   ],
   "source": [
    "airplane_object=AirPlane(name='airplane_object')\n",
    "airplane_object.set_maker(maker='Boeing')\n",
    "airplane_object.fly(height=1000)\n",
    "airplane_object.print()\n",
    "print(airplane_object.__dict__)"
   ]
  },
  {
   "cell_type": "code",
   "execution_count": 136,
   "id": "14c641e2-76b3-4370-a126-1c7c83c9c97c",
   "metadata": {},
   "outputs": [
    {
     "name": "stdout",
     "output_type": "stream",
     "text": [
      " a Helicopter chopper_object made by Lockheed is flying at the height of 1000\n",
      "{'name': 'chopper_object', 'height': 1000, 'maker': 'Lockheed'}\n"
     ]
    }
   ],
   "source": [
    "chopper_object=Helicopter(name='chopper_object')\n",
    "chopper_object.set_maker(maker='Lockheed')\n",
    "chopper_object.fly(height=1000)\n",
    "chopper_object.print()\n",
    "print(chopper_object.__dict__)"
   ]
  },
  {
   "cell_type": "code",
   "execution_count": 137,
   "id": "88b7a329-fc56-49b3-8d7e-da70fe9e3622",
   "metadata": {},
   "outputs": [
    {
     "name": "stdout",
     "output_type": "stream",
     "text": [
      "a Vehicle vehicle_object is moving at the speed of 100\n",
      "{'name': 'vehicle_object', 'speed': 100}\n"
     ]
    }
   ],
   "source": [
    "vehicle_object=Vehicle(name='vehicle_object')\n",
    "vehicle_object.move(speed=100)\n",
    "vehicle_object.print()     \n",
    "print(vehicle_object.__dict__)"
   ]
  },
  {
   "cell_type": "code",
   "execution_count": 138,
   "id": "1b05cfd6-e633-4b12-a2d5-58b5fd68db45",
   "metadata": {},
   "outputs": [
    {
     "name": "stdout",
     "output_type": "stream",
     "text": [
      "a Truck truck_object made by Lockheed is moving at the speed of 100\n",
      "{'name': 'truck_object', 'speed': 100, 'maker': 'Lockheed'}\n"
     ]
    }
   ],
   "source": [
    "truck_object=Truck(name='truck_object')\n",
    "truck_object.set_maker(maker='Lockheed')\n",
    "truck_object.move(speed=100)\n",
    "truck_object.print()\n",
    "print(truck_object.__dict__)"
   ]
  },
  {
   "cell_type": "code",
   "execution_count": 139,
   "id": "325ccff9-06c6-4a38-9c0b-4284cc33c3ee",
   "metadata": {},
   "outputs": [
    {
     "name": "stdout",
     "output_type": "stream",
     "text": [
      " a FlyingCar flyingcar_object made by Tesla is flying at the height of 1000 with the speed of 100\n",
      "{'name': 'flyingcar_object', 'height': 1000, 'speed': 100, 'maker': 'Tesla'}\n"
     ]
    }
   ],
   "source": [
    "flyingcar_object=FlyingCar(name='flyingcar_object')\n",
    "flyingcar_object.set_maker(maker='Tesla')\n",
    "flyingcar_object.fly(height=1000)\n",
    "flyingcar_object.move(speed=100)\n",
    "flyingcar_object.print()     \n",
    "print(flyingcar_object.__dict__)"
   ]
  },
  {
   "cell_type": "code",
   "execution_count": null,
   "id": "78e3e2b5-3915-494a-9736-ea178cab7e90",
   "metadata": {},
   "outputs": [],
   "source": []
  },
  {
   "cell_type": "code",
   "execution_count": null,
   "id": "da09b228-663d-4229-a7a1-95b94b4299ed",
   "metadata": {},
   "outputs": [],
   "source": []
  },
  {
   "cell_type": "code",
   "execution_count": null,
   "id": "36483832-4e30-4455-84b7-abf00ac5c13e",
   "metadata": {},
   "outputs": [],
   "source": []
  },
  {
   "cell_type": "code",
   "execution_count": null,
   "id": "7d99a0c9-c027-429f-9b60-945e0232d82b",
   "metadata": {},
   "outputs": [],
   "source": []
  }
 ],
 "metadata": {
  "kernelspec": {
   "display_name": "Python (ds)",
   "language": "python",
   "name": "ds"
  },
  "language_info": {
   "codemirror_mode": {
    "name": "ipython",
    "version": 3
   },
   "file_extension": ".py",
   "mimetype": "text/x-python",
   "name": "python",
   "nbconvert_exporter": "python",
   "pygments_lexer": "ipython3",
   "version": "3.12.11"
  }
 },
 "nbformat": 4,
 "nbformat_minor": 5
}
