{
 "cells": [
  {
   "cell_type": "markdown",
   "id": "7f81fdd6-a8ac-4d8c-996f-5554c061197a",
   "metadata": {},
   "source": [
    "# Labs of lecture 6 (30 points)"
   ]
  },
  {
   "cell_type": "markdown",
   "id": "35842b83-eae7-4baf-b70d-4e9632669952",
   "metadata": {},
   "source": [
    "### Lab 6.1 string (10 points)\n",
    "write a function to Parse an Email Address"
   ]
  },
  {
   "cell_type": "code",
   "execution_count": 1,
   "id": "237db0db-cd95-4d9f-8606-bc26511ebd85",
   "metadata": {},
   "outputs": [],
   "source": [
    "def parse_email_address(x):\n",
    "    #x is an email address, e.g., first_name.last_name@domain.edu\n",
    "    #the function will extract name and domain from the input x\n",
    "    #name is the sub-string before '@' in x\n",
    "    #domain is the sub-string between '@' and the last '.' in x\n",
    "    #the function will return name, domain\n",
    "    # requirement: do not use any loop\n",
    "    # hints: use string methods (find, split, ...), string reverse ([::-1]), string slicing, etc\n",
    "    # you will get zero point if you do not follow the above instructions\n",
    "    # your code\n",
    "\n",
    "    name = x.split('@')[0]\n",
    "    domain = x.split('@')[1].rsplit('.', 1)[0]\n",
    "    \n",
    "    return name, domain\n"
   ]
  },
  {
   "cell_type": "code",
   "execution_count": 2,
   "id": "4c73bc1e-6e5d-4d14-a6c9-8a3553c34e3f",
   "metadata": {},
   "outputs": [
    {
     "data": {
      "text/plain": [
       "('Jackie.Chan', 'miami')"
      ]
     },
     "execution_count": 2,
     "metadata": {},
     "output_type": "execute_result"
    }
   ],
   "source": [
    "#test case 1 (at most 5 points)\n",
    "parse_email_address(x='Jackie.Chan@miami.edu')"
   ]
  },
  {
   "cell_type": "code",
   "execution_count": 3,
   "id": "828d13c0-99e5-4ac4-a463-98eccf446dcd",
   "metadata": {},
   "outputs": [
    {
     "data": {
      "text/plain": [
       "('A.B.C', 'hollywood')"
      ]
     },
     "execution_count": 3,
     "metadata": {},
     "output_type": "execute_result"
    }
   ],
   "source": [
    "#test case 2 (at most 5 points)\n",
    "parse_email_address(x='A.B.C@hollywood.com')"
   ]
  },
  {
   "cell_type": "markdown",
   "id": "99cd695d-7e30-4ea7-b59b-7c17d2e4c76c",
   "metadata": {},
   "source": [
    "### Lab 6.2  modify a list in a function (1 point)"
   ]
  },
  {
   "cell_type": "code",
   "execution_count": 4,
   "id": "18040012-0ea7-4f00-8aea-87ae27fc2790",
   "metadata": {},
   "outputs": [],
   "source": [
    "def modify_price(price_list, offset):\n",
    "    #price_list is a list of prices, e.g., price_list=[price1, price2, ...]\n",
    "    #offset is a number that is used to adjust the prices, e.g., price1 <- price1+offset\n",
    "    #the function will modify every price value inside price_list by using offset\n",
    "    #the function does not have any return statement \n",
    "    #you will get zero point if you do not follow the above instructions\n",
    "    # your code\n",
    "    for i in range(len(price_list)):\n",
    "        price_list[i] = price_list[i] + offset\n"
   ]
  },
  {
   "cell_type": "markdown",
   "id": "b2e23f14-ffd7-4435-b500-66405515c0f6",
   "metadata": {},
   "source": [
    "note: a function can modify a list without returning the list."
   ]
  },
  {
   "cell_type": "code",
   "execution_count": 5,
   "id": "656b9397-2b6b-45b3-baed-29fa00218a2b",
   "metadata": {},
   "outputs": [
    {
     "name": "stdout",
     "output_type": "stream",
     "text": [
      "new price_list is [110, 210, 210, 133]\n"
     ]
    }
   ],
   "source": [
    "#test case\n",
    "x=[100, 200, 200, 123]\n",
    "y=10\n",
    "modify_price(price_list=x, offset=y)\n",
    "print('new price_list is', x)\n",
    "del x, y"
   ]
  },
  {
   "attachments": {},
   "cell_type": "markdown",
   "id": "0622af76-a8aa-41fa-beff-c431170ce9c5",
   "metadata": {},
   "source": [
    "### Lab 6.3 find elements in a list (9 points) \n",
    "write a function to find an element in a list and return a list of indexes of the matched elements"
   ]
  },
  {
   "cell_type": "code",
   "execution_count": 6,
   "id": "dd88e79f-3f87-4ec4-b574-b03277d575ed",
   "metadata": {},
   "outputs": [],
   "source": [
    "def find_element(x, y):\n",
    "    #x is a list \n",
    "    #y may be a number or a string\n",
    "    #in the list x, the function will find elements that are equal to y \n",
    "    #the function will return a list of indexes of these elements that are equal to y   \n",
    "    #the code looks like this\n",
    "    # index_list =  ...\n",
    "    # for ...\n",
    "    #    if an element in x is equal to y:\n",
    "    #        append the index of the element to index_list\n",
    "    # return index_list\n",
    "    # you will get zero point if you do not follow the above instructions\n",
    "    #your code:\n",
    "    index_list = []\n",
    "    for i in range(len(x)):\n",
    "        if x[i] == y:\n",
    "            index_list.append(i)\n",
    "    return index_list\n",
    "    "
   ]
  },
  {
   "cell_type": "code",
   "execution_count": 7,
   "id": "0cc01d5e-a6b0-4325-a3d7-a703e469d9fb",
   "metadata": {},
   "outputs": [
    {
     "data": {
      "text/plain": [
       "[1, 3, 5]"
      ]
     },
     "execution_count": 7,
     "metadata": {},
     "output_type": "execute_result"
    }
   ],
   "source": [
    "# test case 1 (at most 4 points)\n",
    "find_element(x=[1, 2, 3, 2, 3, 2, 3, 'a', 'b'], y=2)"
   ]
  },
  {
   "cell_type": "code",
   "execution_count": 8,
   "id": "c9c72f79-3a49-46a6-9bfc-c0cb1318e15a",
   "metadata": {},
   "outputs": [
    {
     "data": {
      "text/plain": [
       "[7, 9, 11]"
      ]
     },
     "execution_count": 8,
     "metadata": {},
     "output_type": "execute_result"
    }
   ],
   "source": [
    "# test case 2 (at most 5 points)\n",
    "find_element(x=[1, 2, 3, 2, 3, 2, 3, 'a', 'b', 'a', 'b', 'a', 'b'], y='a')"
   ]
  },
  {
   "cell_type": "markdown",
   "id": "fae22f3a-1654-4772-918f-cfaacc120195",
   "metadata": {},
   "source": [
    "### Lab 6.4 dictionary (10 points)\n",
    "<div>\n",
    "<img src=\"lab6_fig1.png\" width=\"600\"/>\n",
    "</div"
   ]
  },
  {
   "cell_type": "code",
   "execution_count": 11,
   "id": "e14bb7eb-b140-4044-988b-57eb3f1b8c63",
   "metadata": {},
   "outputs": [],
   "source": [
    "def record_an_order(sandwich_name, menu, record):\n",
    "    #this function will record an order from a customer\n",
    "    #sandwich_name: it is the name of a sandwitch that a customer wants\n",
    "    #menu: it is the restaurant menu\n",
    "    #record: it is a dictionary {sandwich_name:counter}\n",
    "    #   counter is the number of sandwich_name that are sold to customers\n",
    "    #This function has 2 steps: \n",
    "    # step1:  check if sandwich_name is in the restaurant menu,\n",
    "    #         if not, then does nothing and return False\n",
    "    # step2:  add 1 to counter of the sandwich_name in record\n",
    "    #         note: if sandwich_name is not in record, then some initialization is needed\n",
    "    #         return True \n",
    "    # your code\n",
    "\n",
    "    \n",
    "    if sandwich_name not in menu:\n",
    "        return False\n",
    "    \n",
    "    if sandwich_name in record:\n",
    "        record[sandwich_name] += 1\n",
    "    else:\n",
    "        record[sandwich_name] = 1\n",
    "    \n",
    "    return True\n"
   ]
  },
  {
   "cell_type": "markdown",
   "id": "2fda4623-3209-4d93-90b1-03da70b36543",
   "metadata": {},
   "source": [
    "note: a function can modify a dictionary without returning the dictionary."
   ]
  },
  {
   "cell_type": "code",
   "execution_count": 12,
   "id": "1e250614-689b-4528-856f-953ec81d253d",
   "metadata": {},
   "outputs": [
    {
     "name": "stdout",
     "output_type": "stream",
     "text": [
      "result is True , record is {'Hamburger': 1}\n"
     ]
    }
   ],
   "source": [
    "#test case 1 (at most 4 points)\n",
    "menu={'Hamburger':2.5,\n",
    "      'Cheeseburger':3.0,\n",
    "      'Chicken burger':3.5,\n",
    "      'Fried chicken':4.0,\n",
    "      'Subway':4.5,\n",
    "      'Pizza':5}\n",
    "record={}\n",
    "sandwich_name='Hamburger'\n",
    "result=record_an_order(sandwich_name, menu, record)\n",
    "print('result is', result, ', record is' , record)"
   ]
  },
  {
   "cell_type": "code",
   "execution_count": 13,
   "id": "cba33cd3-7f1a-4c71-9234-cd8ea90b01cc",
   "metadata": {},
   "outputs": [
    {
     "name": "stdout",
     "output_type": "stream",
     "text": [
      "result is True , record is {'Hamburger': 11}\n"
     ]
    }
   ],
   "source": [
    "#test case 2 (at most 3 points)\n",
    "menu={'Hamburger':2.5,\n",
    "      'Cheeseburger':3.0,\n",
    "      'Chicken burger':3.5,\n",
    "      'Fried chicken':4.0,\n",
    "      'Subway':4.5,\n",
    "      'Pizza':5}\n",
    "record={'Hamburger':10}\n",
    "sandwich_name='Hamburger'\n",
    "result=record_an_order(sandwich_name, menu, record)\n",
    "print('result is', result, ', record is' , record)"
   ]
  },
  {
   "cell_type": "code",
   "execution_count": 14,
   "id": "835c3902-8ee8-4655-acb5-7a9cfa327316",
   "metadata": {},
   "outputs": [
    {
     "name": "stdout",
     "output_type": "stream",
     "text": [
      "result is False , record is {}\n"
     ]
    }
   ],
   "source": [
    "#test case 3 (at most 3 points)\n",
    "menu={'Hamburger':2.5,\n",
    "      'Cheeseburger':3.0,\n",
    "      'Chicken burger':3.5,\n",
    "      'Fried chicken':4.0,\n",
    "      'Subway':4.5,\n",
    "      'Pizza':5}\n",
    "record={}\n",
    "sandwich_name='Macburger'\n",
    "result=record_an_order(sandwich_name, menu, record)\n",
    "print('result is', result, ', record is' , record)"
   ]
  },
  {
   "cell_type": "code",
   "execution_count": null,
   "id": "11230166-fa30-4e73-b163-3ee060bc59ea",
   "metadata": {},
   "outputs": [],
   "source": []
  },
  {
   "cell_type": "code",
   "execution_count": null,
   "id": "f9cd7c3d-2066-4b2b-80ef-b6b4d0fd8a22",
   "metadata": {},
   "outputs": [],
   "source": []
  }
 ],
 "metadata": {
  "kernelspec": {
   "display_name": "Python (ds)",
   "language": "python",
   "name": "ds"
  },
  "language_info": {
   "codemirror_mode": {
    "name": "ipython",
    "version": 3
   },
   "file_extension": ".py",
   "mimetype": "text/x-python",
   "name": "python",
   "nbconvert_exporter": "python",
   "pygments_lexer": "ipython3",
   "version": "3.12.11"
  }
 },
 "nbformat": 4,
 "nbformat_minor": 5
}
