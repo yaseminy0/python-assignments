{
 "cells": [
  {
   "cell_type": "markdown",
   "id": "f7643f68-7169-4afa-9e79-b605461f1388",
   "metadata": {},
   "source": [
    "# Labs of lecture 5"
   ]
  },
  {
   "cell_type": "markdown",
   "id": "4d4fab4f-06e9-44a0-8338-ea090a8deb48",
   "metadata": {},
   "source": [
    "### Lab 5.1 function basics (10 points)"
   ]
  },
  {
   "cell_type": "code",
   "execution_count": 27,
   "id": "be6f6610-d2dc-4698-8147-bb4d9314000c",
   "metadata": {},
   "outputs": [],
   "source": [
    "    #x is a list of numbers\n",
    "    #the function will return the max number and the min number in the list x\n",
    "    #do NOT use the function max and the function min\n",
    "    #use a for loop to find the max and the min\n",
    "    #the code looks like this\n",
    "    # min_value=...\n",
    "    # max_value=...\n",
    "    # for ....\n",
    "    #   if min_value is larger than an element in the list x, then update min_value\n",
    "    #   if max_value is smaller than an element in the list x, then update max_value\n",
    "    # return min_value, max_value\n",
    "    #you will get zero point if you do not follow the above instructions\n",
    "    #your code:\n",
    "\n",
    "\n",
    "def function1(x):\n",
    "    min_value = x[0]\n",
    "    max_value = x[0]\n",
    "    \n",
    "    for num in x:\n",
    "        if num < min_value:\n",
    "            min_value=num\n",
    "        if num > max_value:\n",
    "            max_value=num\n",
    "    return min_value, max_value\n",
    "    \n",
    "    "
   ]
  },
  {
   "cell_type": "code",
   "execution_count": 28,
   "id": "b52c8cbb-26da-416c-a333-b2d5f2fb4c0e",
   "metadata": {},
   "outputs": [
    {
     "name": "stdout",
     "output_type": "stream",
     "text": [
      "min is  1 , max is 20\n"
     ]
    }
   ],
   "source": [
    "#test case 1 (at most 3 points)\n",
    "v1, v2 = function1(x=[10, 20, 5, 1, 6])\n",
    "print('min is ', v1, ', max is', v2)\n",
    "del v1, v2"
   ]
  },
  {
   "cell_type": "code",
   "execution_count": 29,
   "id": "5f9a8bb2-4931-4063-8dc1-5f2841b949da",
   "metadata": {},
   "outputs": [
    {
     "name": "stdout",
     "output_type": "stream",
     "text": [
      "min is  -inf , max is inf\n"
     ]
    }
   ],
   "source": [
    "#test case 2  (at most 4 points)\n",
    "v = function1(x=[10, 20, float('inf'), float('nan'), float('-inf')])\n",
    "print('min is ', v[0], ', max is', v[1])\n",
    "del v"
   ]
  },
  {
   "cell_type": "code",
   "execution_count": 30,
   "id": "90299f45-08ec-45a3-b7f6-c936a89f08fa",
   "metadata": {},
   "outputs": [],
   "source": [
    "#a question (at most 3 points)\n",
    "# function1(x=[10, 20, 5, 1, 6])\n",
    "# someone tries to print x, min_value, and max_value after running the above line of code\n",
    "# print(x) will crash (showing NameError)\n",
    "# print(min_value) will crash (showing NameError)\n",
    "# print(max_value) will crash (showing NameError)\n",
    "# Why will the three print statements crash?\n",
    "#your answer (in English):\n",
    "\n",
    "#because they are local variables inside the function, so after the function ends we can’t use them outside and it gives NameError."
   ]
  },
  {
   "attachments": {},
   "cell_type": "markdown",
   "id": "1d2e167f-db01-4422-904b-51ae6115e4bd",
   "metadata": {},
   "source": [
    "### Lab 5.2 Pass an arbitrary number of arguments to a function (10 points)"
   ]
  },
  {
   "cell_type": "markdown",
   "id": "bf88013f-66eb-440b-8ad1-1053029394bf",
   "metadata": {},
   "source": [
    "write a single function to calcuate the area of a triangle or rectangle or circle."
   ]
  },
  {
   "cell_type": "markdown",
   "id": "7cc10b52-9bb5-467a-8b5a-ff9409c728ad",
   "metadata": {},
   "source": [
    "<div>\n",
    "<img src=\"lab5_figure0.png\" width=\"500\"/>\n",
    "</div>"
   ]
  },
  {
   "cell_type": "code",
   "execution_count": 31,
   "id": "f9a1e398-1b3b-4c6b-9321-b771e9406301",
   "metadata": {},
   "outputs": [],
   "source": [
    "    #if name is triangle, then obtain base and height from args, and calculate area\n",
    "    #if name is rectangle, then obtain width and height from args, and calculate area\n",
    "    #if name is circle, then obtain radius from args, and calculate area\n",
    "    #if name is anything else, then raise ValueError\n",
    "    #the code looks like this:\n",
    "    #     if name == 'triangle':\n",
    "    #         area=...\n",
    "    #     elif ...\n",
    "    #         area=...\n",
    "    #     ...\n",
    "    #     else:\n",
    "    #          raise ValueError(\"invalid input\")\n",
    "    #     return area\n",
    "    #you will get zero point if you do not follow the above instructions\n",
    "    #your code:\n",
    "\n",
    "\n",
    "\n",
    "import math \n",
    "def function2(name, *args):\n",
    "    if name == 'rectangle':\n",
    "        if len(args) != 2:\n",
    "            print(\"rectangle needs height and weight.\")\n",
    "        height, weight = args\n",
    "        area = height*weight\n",
    "\n",
    "    if name == 'triangle':\n",
    "        if len(args) != 2:\n",
    "            print(\"triangle needs height and base.\")\n",
    "        height, base = args\n",
    "        area = 0.5*base*height\n",
    "\n",
    "\n",
    "    if name == 'circle':\n",
    "        if len(args) != 1:\n",
    "            print(\"circle needs only radius.\")\n",
    "        radius = float(args[0])\n",
    "        area = math.pi * (radius **2)\n",
    "    return area"
   ]
  },
  {
   "cell_type": "code",
   "execution_count": 32,
   "id": "df3e35c6-523a-4ec9-8fb3-046bae7ddbf0",
   "metadata": {},
   "outputs": [
    {
     "name": "stdout",
     "output_type": "stream",
     "text": [
      "area1 is 500.0\n"
     ]
    }
   ],
   "source": [
    "#test case 1 (at most 3 points)\n",
    "area1=function2(\"triangle\", 10, 100)\n",
    "print('area1 is', area1)"
   ]
  },
  {
   "cell_type": "code",
   "execution_count": 33,
   "id": "6c5a477a-c3aa-4a67-9406-d67b971f88c3",
   "metadata": {},
   "outputs": [
    {
     "name": "stdout",
     "output_type": "stream",
     "text": [
      "area2 is 1000\n"
     ]
    }
   ],
   "source": [
    "#test case 2  (at most 3 points)\n",
    "area2=function2(\"rectangle\", 10, 100)\n",
    "print('area2 is', area2)"
   ]
  },
  {
   "cell_type": "code",
   "execution_count": 34,
   "id": "668f5471-50a4-4ad1-9547-8c56d93c9cad",
   "metadata": {},
   "outputs": [
    {
     "name": "stdout",
     "output_type": "stream",
     "text": [
      "area3 is 314.1592653589793\n"
     ]
    }
   ],
   "source": [
    "#test case 3  (at most 3 points)\n",
    "area3=function2(\"circle\", 10)\n",
    "print('area3 is', area3)"
   ]
  },
  {
   "cell_type": "code",
   "execution_count": 35,
   "id": "895dbae1-cb33-445c-94fc-44f47e9768b6",
   "metadata": {},
   "outputs": [
    {
     "ename": "UnboundLocalError",
     "evalue": "cannot access local variable 'area' where it is not associated with a value",
     "output_type": "error",
     "traceback": [
      "\u001b[31m---------------------------------------------------------------------------\u001b[39m",
      "\u001b[31mUnboundLocalError\u001b[39m                         Traceback (most recent call last)",
      "\u001b[36mCell\u001b[39m\u001b[36m \u001b[39m\u001b[32mIn[35]\u001b[39m\u001b[32m, line 2\u001b[39m\n\u001b[32m      1\u001b[39m \u001b[38;5;66;03m#test case 4  (at most 1 point): this will crash and show ValueError: invalid input\u001b[39;00m\n\u001b[32m----> \u001b[39m\u001b[32m2\u001b[39m \u001b[43mfunction2\u001b[49m\u001b[43m(\u001b[49m\u001b[33;43m\"\u001b[39;49m\u001b[33;43mpoly\u001b[39;49m\u001b[33;43m\"\u001b[39;49m\u001b[43m,\u001b[49m\u001b[43m \u001b[49m\u001b[32;43m10\u001b[39;49m\u001b[43m)\u001b[49m\n",
      "\u001b[36mCell\u001b[39m\u001b[36m \u001b[39m\u001b[32mIn[31]\u001b[39m\u001b[32m, line 39\u001b[39m, in \u001b[36mfunction2\u001b[39m\u001b[34m(name, *args)\u001b[39m\n\u001b[32m     37\u001b[39m     radius = \u001b[38;5;28mfloat\u001b[39m(args[\u001b[32m0\u001b[39m])\n\u001b[32m     38\u001b[39m     area = math.pi * (radius **\u001b[32m2\u001b[39m)\n\u001b[32m---> \u001b[39m\u001b[32m39\u001b[39m \u001b[38;5;28;01mreturn\u001b[39;00m \u001b[43marea\u001b[49m\n",
      "\u001b[31mUnboundLocalError\u001b[39m: cannot access local variable 'area' where it is not associated with a value"
     ]
    }
   ],
   "source": [
    "#test case 4  (at most 1 point): this will crash and show ValueError: invalid input\n",
    "function2(\"poly\", 10)"
   ]
  },
  {
   "cell_type": "markdown",
   "id": "5a612275-81d0-436e-9504-060a8d369105",
   "metadata": {},
   "source": [
    "### Lab 5.3 Pass an arbitrary number of keyword arguments to a function (10 points)"
   ]
  },
  {
   "cell_type": "markdown",
   "id": "b209f01f-b8d8-43c0-b6a0-1fc2f3e96601",
   "metadata": {},
   "source": [
    "write a single function to calcuate the area of a triangle or rectangle or circle."
   ]
  },
  {
   "cell_type": "code",
   "execution_count": 36,
   "id": "9adc0d47-b7b0-4e10-8530-3ff79a475e8d",
   "metadata": {},
   "outputs": [
    {
     "name": "stdout",
     "output_type": "stream",
     "text": [
      "x[\"a\"] is 1 , x[\"b\"] is 2 , x[\"c\"] is 3\n"
     ]
    }
   ],
   "source": [
    "#this example will help you with the lab\n",
    "x={\"a\":1, \"b\":2, \"c\":3}\n",
    "print('x[\"a\"] is', x[\"a\"], ', x[\"b\"] is', x[\"b\"], ', x[\"c\"] is', x[\"c\"])\n",
    "del x"
   ]
  },
  {
   "cell_type": "code",
   "execution_count": 37,
   "id": "ee3d79d5-e9bb-41c1-aaae-628457b2dd45",
   "metadata": {},
   "outputs": [],
   "source": [
    "\n",
    "    #if name is triangle, then obtain base and height from kargs, and calculate area\n",
    "    #if name is rectangle, then obtain width and height from kargs, and calculate area\n",
    "    #if name is circle, then obtain radius from kargs, and calculate area\n",
    "    #if name is anything else, then raise ValueError\n",
    "    #the code looks like this:\n",
    "    #     if name == 'triangle':\n",
    "    #         area=...\n",
    "    #     elif ...\n",
    "    #         area=...\n",
    "    #     ...\n",
    "    #     else:\n",
    "    #          raise ValueError(\"invalid input\")\n",
    "    #     return area\n",
    "    #you will get zero point if you do not follow the above instructions\n",
    "    #your code\n",
    "import math\n",
    "\n",
    "def function3(name, **kargs):\n",
    "    if name == 'triangle':\n",
    "        if 'base' not in kargs or 'height' not in kargs:\n",
    "            raise ValueError(\"triangle needs base and height\")\n",
    "        area = 0.5 * kargs['base'] * kargs['height']\n",
    "    elif name == 'rectangle':\n",
    "        if 'width' not in kargs or 'height' not in kargs:\n",
    "            raise ValueError(\"rectangle needs width and height\")\n",
    "        area = kargs['width'] * kargs['height']\n",
    "    elif name == 'circle':\n",
    "        if 'radius' not in kargs:\n",
    "            raise ValueError(\"circle needs radius\")\n",
    "        area = math.pi * kargs['radius'] ** 2\n",
    "    else:\n",
    "        raise ValueError(\"invalid input\")\n",
    "    return area"
   ]
  },
  {
   "cell_type": "code",
   "execution_count": 38,
   "id": "f144318b-540e-4eae-b21b-4a65783e8775",
   "metadata": {},
   "outputs": [
    {
     "name": "stdout",
     "output_type": "stream",
     "text": [
      "area1 is 500.0\n"
     ]
    }
   ],
   "source": [
    "#test case 1 (at most 3 points)\n",
    "area1=function3(\"triangle\", base=10, height=100)\n",
    "print('area1 is', area1)"
   ]
  },
  {
   "cell_type": "code",
   "execution_count": 39,
   "id": "e7a55b44-14f8-43a1-a32f-dc0cd9751294",
   "metadata": {},
   "outputs": [
    {
     "name": "stdout",
     "output_type": "stream",
     "text": [
      "area2 is 1000\n"
     ]
    }
   ],
   "source": [
    "#test case 2  (at most 3 points)\n",
    "area2=function3(\"rectangle\", width=10, height=100)\n",
    "print('area2 is', area2)"
   ]
  },
  {
   "cell_type": "code",
   "execution_count": 40,
   "id": "95fc9ec0-750d-40e9-8856-80b4e642a926",
   "metadata": {},
   "outputs": [
    {
     "name": "stdout",
     "output_type": "stream",
     "text": [
      "area3 is 314.1592653589793\n"
     ]
    }
   ],
   "source": [
    "#test case 3  (at most 3 points)\n",
    "area3=function3(\"circle\", radius=10)\n",
    "print('area3 is', area3)"
   ]
  },
  {
   "cell_type": "code",
   "execution_count": 41,
   "id": "ed2412cb-4c42-4ff1-8082-0a0ee00471ad",
   "metadata": {},
   "outputs": [
    {
     "ename": "ValueError",
     "evalue": "invalid input",
     "output_type": "error",
     "traceback": [
      "\u001b[31m---------------------------------------------------------------------------\u001b[39m",
      "\u001b[31mValueError\u001b[39m                                Traceback (most recent call last)",
      "\u001b[36mCell\u001b[39m\u001b[36m \u001b[39m\u001b[32mIn[41]\u001b[39m\u001b[32m, line 2\u001b[39m\n\u001b[32m      1\u001b[39m \u001b[38;5;66;03m#test case 4  (at most 1 point): this will crash and show ValueError: invalid input\u001b[39;00m\n\u001b[32m----> \u001b[39m\u001b[32m2\u001b[39m \u001b[43mfunction3\u001b[49m\u001b[43m(\u001b[49m\u001b[33;43m\"\u001b[39;49m\u001b[33;43mpoly\u001b[39;49m\u001b[33;43m\"\u001b[39;49m\u001b[43m,\u001b[49m\u001b[43m \u001b[49m\u001b[43mabc\u001b[49m\u001b[43m=\u001b[49m\u001b[32;43m20\u001b[39;49m\u001b[43m)\u001b[49m\n",
      "\u001b[36mCell\u001b[39m\u001b[36m \u001b[39m\u001b[32mIn[37]\u001b[39m\u001b[32m, line 32\u001b[39m, in \u001b[36mfunction3\u001b[39m\u001b[34m(name, **kargs)\u001b[39m\n\u001b[32m     30\u001b[39m     area = math.pi * kargs[\u001b[33m'\u001b[39m\u001b[33mradius\u001b[39m\u001b[33m'\u001b[39m] ** \u001b[32m2\u001b[39m\n\u001b[32m     31\u001b[39m \u001b[38;5;28;01melse\u001b[39;00m:\n\u001b[32m---> \u001b[39m\u001b[32m32\u001b[39m     \u001b[38;5;28;01mraise\u001b[39;00m \u001b[38;5;167;01mValueError\u001b[39;00m(\u001b[33m\"\u001b[39m\u001b[33minvalid input\u001b[39m\u001b[33m\"\u001b[39m)\n\u001b[32m     33\u001b[39m \u001b[38;5;28;01mreturn\u001b[39;00m area\n",
      "\u001b[31mValueError\u001b[39m: invalid input"
     ]
    }
   ],
   "source": [
    "#test case 4  (at most 1 point): this will crash and show ValueError: invalid input\n",
    "function3(\"poly\", abc=20)"
   ]
  },
  {
   "cell_type": "markdown",
   "id": "29743e0f-fee5-47cf-9c33-4ef3f608ed06",
   "metadata": {},
   "source": [
    "note: function3(\"circle\", diameter=20) will crash"
   ]
  },
  {
   "cell_type": "code",
   "execution_count": null,
   "id": "c197e45c-b946-4f03-947c-a0f93c00ce44",
   "metadata": {},
   "outputs": [],
   "source": []
  }
 ],
 "metadata": {
  "kernelspec": {
   "display_name": "Python (ds)",
   "language": "python",
   "name": "ds"
  },
  "language_info": {
   "codemirror_mode": {
    "name": "ipython",
    "version": 3
   },
   "file_extension": ".py",
   "mimetype": "text/x-python",
   "name": "python",
   "nbconvert_exporter": "python",
   "pygments_lexer": "ipython3",
   "version": "3.12.11"
  }
 },
 "nbformat": 4,
 "nbformat_minor": 5
}
