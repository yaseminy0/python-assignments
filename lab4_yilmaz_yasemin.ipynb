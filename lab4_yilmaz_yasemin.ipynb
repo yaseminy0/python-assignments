{
 "cells": [
  {
   "cell_type": "code",
   "execution_count": 18,
   "id": "caacc011-34ad-41bb-bb33-9c6324ad6ced",
   "metadata": {},
   "outputs": [
    {
     "name": "stdin",
     "output_type": "stream",
     "text": [
      "please input an integer:  kjh\n"
     ]
    },
    {
     "name": "stdout",
     "output_type": "stream",
     "text": [
      "the input  kjh is not an integer.\n"
     ]
    },
    {
     "name": "stdin",
     "output_type": "stream",
     "text": [
      "please input an integer:  @\n"
     ]
    },
    {
     "name": "stdout",
     "output_type": "stream",
     "text": [
      "the input  @ is not an integer.\n"
     ]
    },
    {
     "name": "stdin",
     "output_type": "stream",
     "text": [
      "please input an integer:  98\n"
     ]
    },
    {
     "name": "stdout",
     "output_type": "stream",
     "text": [
      "the input integer is:  98\n"
     ]
    }
   ],
   "source": [
    "x = input(\"please input an integer: \")\n",
    "for i in x:\n",
    "    try:\n",
    "        x = int(x)\n",
    "        print(\"the input integer is: \",x)\n",
    "        break\n",
    "    except: \n",
    "        print(\"the input \",x, \"is not an integer.\")\n",
    "        \n",
    "    x = input(\"please input an integer: \")\n",
    "        \n",
    "   \n"
   ]
  },
  {
   "cell_type": "code",
   "execution_count": 29,
   "id": "6c8f1682-a217-4f81-8ec3-718a28a60a03",
   "metadata": {},
   "outputs": [
    {
     "name": "stdout",
     "output_type": "stream",
     "text": [
      "abc123\n"
     ]
    }
   ],
   "source": [
    "#This lab needs string concatenation using the operator +\n",
    "#Here is an example to \"append\" two strings s1 and s2 to an empty string s\n",
    "s = ''\n",
    "s1 = 'abc'\n",
    "s2 = '123'\n",
    "s = s + s1 + s2\n",
    "print(s)"
   ]
  },
  {
   "cell_type": "code",
   "execution_count": 1,
   "id": "12e58f1f-d9a1-44df-a69a-c9c089d4aa7e",
   "metadata": {},
   "outputs": [
    {
     "name": "stdout",
     "output_type": "stream",
     "text": [
      "a sequence in reverse order\n"
     ]
    }
   ],
   "source": [
    "x = \"redro esrever ni ecneuqes a\"\n",
    "y = ''\n",
    "i = len(x) -1\n",
    "while i>=0:\n",
    "    y = y + x[i]\n",
    "    i = i-1\n",
    "   \n",
    "\n",
    "print(y)"
   ]
  },
  {
   "cell_type": "code",
   "execution_count": 21,
   "id": "9ede9898-31e8-400d-b5a6-72164e98ff6e",
   "metadata": {},
   "outputs": [
    {
     "name": "stdout",
     "output_type": "stream",
     "text": [
      "a sequence in reverse order\n"
     ]
    }
   ],
   "source": [
    "x = \"redro esrever ni ecneuqes a\"\n",
    "y = ''\n",
    "for i in range(len(x)-1, -1, -1):\n",
    "    y = y+x[i]\n",
    "print(y)\n",
    "         \n"
   ]
  },
  {
   "cell_type": "code",
   "execution_count": null,
   "id": "791daa72-984e-47e9-bb16-566a911bafe9",
   "metadata": {},
   "outputs": [],
   "source": []
  }
 ],
 "metadata": {
  "kernelspec": {
   "display_name": "Python (ds)",
   "language": "python",
   "name": "ds"
  },
  "language_info": {
   "codemirror_mode": {
    "name": "ipython",
    "version": 3
   },
   "file_extension": ".py",
   "mimetype": "text/x-python",
   "name": "python",
   "nbconvert_exporter": "python",
   "pygments_lexer": "ipython3",
   "version": "3.12.11"
  }
 },
 "nbformat": 4,
 "nbformat_minor": 5
}
