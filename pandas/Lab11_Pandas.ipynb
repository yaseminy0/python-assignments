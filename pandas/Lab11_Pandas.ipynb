{
 "cells": [
  {
   "cell_type": "markdown",
   "metadata": {},
   "source": [
    "# Lab 11: Pandas  (15 points, 0.5 point per cell)"
   ]
  },
  {
   "cell_type": "code",
   "execution_count": 41,
   "metadata": {},
   "outputs": [],
   "source": [
    "import numpy as np\n",
    "import pandas as pd\n",
    "import matplotlib.pyplot as plt"
   ]
  },
  {
   "cell_type": "markdown",
   "metadata": {},
   "source": [
    "### Load data from a csv  file and store the data in a dataframe `df`\n",
    "a csv file contains comma-separated values (CSV) <br>\n",
    "https://en.wikipedia.org/wiki/Comma-separated_values"
   ]
  },
  {
   "cell_type": "code",
   "execution_count": 42,
   "metadata": {},
   "outputs": [],
   "source": [
    "#load a dataframe from the file 'patient_record.csv', using pd.read_csv(filename)\n",
    "#name the dataframe as df\n",
    "#your code:\n",
    "filename = 'patient_record.csv'\n",
    "df = pd.read_csv(filename)"
   ]
  },
  {
   "cell_type": "code",
   "execution_count": 43,
   "metadata": {},
   "outputs": [
    {
     "data": {
      "text/html": [
       "<div>\n",
       "<style scoped>\n",
       "    .dataframe tbody tr th:only-of-type {\n",
       "        vertical-align: middle;\n",
       "    }\n",
       "\n",
       "    .dataframe tbody tr th {\n",
       "        vertical-align: top;\n",
       "    }\n",
       "\n",
       "    .dataframe thead th {\n",
       "        text-align: right;\n",
       "    }\n",
       "</style>\n",
       "<table border=\"1\" class=\"dataframe\">\n",
       "  <thead>\n",
       "    <tr style=\"text-align: right;\">\n",
       "      <th></th>\n",
       "      <th>Age</th>\n",
       "      <th>Gender</th>\n",
       "      <th>Tumor_size_mm</th>\n",
       "    </tr>\n",
       "  </thead>\n",
       "  <tbody>\n",
       "    <tr>\n",
       "      <th>0</th>\n",
       "      <td>30</td>\n",
       "      <td>M</td>\n",
       "      <td>1.0</td>\n",
       "    </tr>\n",
       "    <tr>\n",
       "      <th>1</th>\n",
       "      <td>40</td>\n",
       "      <td>F</td>\n",
       "      <td>2.0</td>\n",
       "    </tr>\n",
       "    <tr>\n",
       "      <th>2</th>\n",
       "      <td>85</td>\n",
       "      <td>F</td>\n",
       "      <td>0.1</td>\n",
       "    </tr>\n",
       "    <tr>\n",
       "      <th>3</th>\n",
       "      <td>75</td>\n",
       "      <td>M</td>\n",
       "      <td>1.0</td>\n",
       "    </tr>\n",
       "    <tr>\n",
       "      <th>4</th>\n",
       "      <td>95</td>\n",
       "      <td>F</td>\n",
       "      <td>3.0</td>\n",
       "    </tr>\n",
       "  </tbody>\n",
       "</table>\n",
       "</div>"
      ],
      "text/plain": [
       "   Age Gender  Tumor_size_mm\n",
       "0   30      M            1.0\n",
       "1   40      F            2.0\n",
       "2   85      F            0.1\n",
       "3   75      M            1.0\n",
       "4   95      F            3.0"
      ]
     },
     "execution_count": 43,
     "metadata": {},
     "output_type": "execute_result"
    }
   ],
   "source": [
    "#show the first five rows of the dataframe df, using dataframe.head()\n",
    "#your code:\n",
    "df.head()"
   ]
  },
  {
   "cell_type": "code",
   "execution_count": 44,
   "metadata": {},
   "outputs": [
    {
     "name": "stdout",
     "output_type": "stream",
     "text": [
      "   Age Gender  Tumor_size_mm\n",
      "0   30      M            1.0\n",
      "1   40      F            2.0\n",
      "2   85      F            0.1\n",
      "3   75      M            1.0\n",
      "4   95      F            3.0\n",
      "5  100      M            1.0\n"
     ]
    }
   ],
   "source": [
    "#show all the rows of the dataframe df, using print\n",
    "#your code:\n",
    "print(df)"
   ]
  },
  {
   "cell_type": "code",
   "execution_count": 45,
   "metadata": {},
   "outputs": [
    {
     "data": {
      "text/plain": [
       "(6, 3)"
      ]
     },
     "execution_count": 45,
     "metadata": {},
     "output_type": "execute_result"
    }
   ],
   "source": [
    "#show the shape of the dataframe df\n",
    "#your code:\n",
    "df.shape"
   ]
  },
  {
   "cell_type": "code",
   "execution_count": 46,
   "metadata": {},
   "outputs": [
    {
     "data": {
      "text/plain": [
       "Index(['Age', 'Gender', 'Tumor_size_mm'], dtype='object')"
      ]
     },
     "execution_count": 46,
     "metadata": {},
     "output_type": "execute_result"
    }
   ],
   "source": [
    "#show the column indexes of the dataframe df\n",
    "#your code:\n",
    "df.columns"
   ]
  },
  {
   "cell_type": "code",
   "execution_count": 47,
   "metadata": {},
   "outputs": [
    {
     "data": {
      "text/plain": [
       "RangeIndex(start=0, stop=6, step=1)"
      ]
     },
     "execution_count": 47,
     "metadata": {},
     "output_type": "execute_result"
    }
   ],
   "source": [
    "#show the row indexes of the dataframe df\n",
    "#your code:\n",
    "df.index"
   ]
  },
  {
   "cell_type": "markdown",
   "metadata": {},
   "source": [
    "get a row using `dataframe_name.iloc[?,?]`"
   ]
  },
  {
   "cell_type": "code",
   "execution_count": 48,
   "metadata": {},
   "outputs": [
    {
     "data": {
      "text/plain": [
       "Age               30\n",
       "Gender             M\n",
       "Tumor_size_mm    1.0\n",
       "Name: 0, dtype: object"
      ]
     },
     "execution_count": 48,
     "metadata": {},
     "output_type": "execute_result"
    }
   ],
   "source": [
    "#get the first row of the dataframe df, using dataframe_name.iloc[n,:], n is row index\n",
    "#your code:\n",
    "df.iloc[0, :]"
   ]
  },
  {
   "cell_type": "code",
   "execution_count": 49,
   "metadata": {},
   "outputs": [
    {
     "data": {
      "text/plain": [
       "pandas.core.series.Series"
      ]
     },
     "execution_count": 49,
     "metadata": {},
     "output_type": "execute_result"
    }
   ],
   "source": [
    "#check the type of the first row that is obtained in the above cell, using type(...)\n",
    "#your code:\n",
    "type(df.iloc[0, :])"
   ]
  },
  {
   "cell_type": "code",
   "execution_count": 50,
   "metadata": {},
   "outputs": [
    {
     "data": {
      "text/html": [
       "<div>\n",
       "<style scoped>\n",
       "    .dataframe tbody tr th:only-of-type {\n",
       "        vertical-align: middle;\n",
       "    }\n",
       "\n",
       "    .dataframe tbody tr th {\n",
       "        vertical-align: top;\n",
       "    }\n",
       "\n",
       "    .dataframe thead th {\n",
       "        text-align: right;\n",
       "    }\n",
       "</style>\n",
       "<table border=\"1\" class=\"dataframe\">\n",
       "  <thead>\n",
       "    <tr style=\"text-align: right;\">\n",
       "      <th></th>\n",
       "      <th>Age</th>\n",
       "      <th>Gender</th>\n",
       "      <th>Tumor_size_mm</th>\n",
       "    </tr>\n",
       "  </thead>\n",
       "  <tbody>\n",
       "    <tr>\n",
       "      <th>0</th>\n",
       "      <td>30</td>\n",
       "      <td>M</td>\n",
       "      <td>1.0</td>\n",
       "    </tr>\n",
       "  </tbody>\n",
       "</table>\n",
       "</div>"
      ],
      "text/plain": [
       "   Age Gender  Tumor_size_mm\n",
       "0   30      M            1.0"
      ]
     },
     "execution_count": 50,
     "metadata": {},
     "output_type": "execute_result"
    }
   ],
   "source": [
    "#get the first row of the dataframe df, using iloc[n:(n+1),:], n is row index\n",
    "#your code:\n",
    "df.iloc[0:1, :]"
   ]
  },
  {
   "cell_type": "code",
   "execution_count": 51,
   "metadata": {},
   "outputs": [
    {
     "data": {
      "text/plain": [
       "pandas.core.frame.DataFrame"
      ]
     },
     "execution_count": 51,
     "metadata": {},
     "output_type": "execute_result"
    }
   ],
   "source": [
    "#check the type of the first row that is obtained in the above cell, using type(...)\n",
    "#your code:\n",
    "type(df.iloc[0:1, :])"
   ]
  },
  {
   "cell_type": "markdown",
   "metadata": {},
   "source": [
    "get a row (a series) using `dataframe_name.loc[n]`"
   ]
  },
  {
   "cell_type": "code",
   "execution_count": 52,
   "metadata": {},
   "outputs": [
    {
     "data": {
      "text/plain": [
       "Age               30\n",
       "Gender             M\n",
       "Tumor_size_mm    1.0\n",
       "Name: 0, dtype: object"
      ]
     },
     "execution_count": 52,
     "metadata": {},
     "output_type": "execute_result"
    }
   ],
   "source": [
    "#get the first row of the dataframe df, using dataframe_name.loc[n], n is row index\n",
    "#your code:\n",
    "df.loc[0]"
   ]
  },
  {
   "cell_type": "markdown",
   "metadata": {},
   "source": [
    "get a column of the dataframe"
   ]
  },
  {
   "cell_type": "code",
   "execution_count": 53,
   "metadata": {},
   "outputs": [
    {
     "data": {
      "text/plain": [
       "0     30\n",
       "1     40\n",
       "2     85\n",
       "3     75\n",
       "4     95\n",
       "5    100\n",
       "Name: Age, dtype: int64"
      ]
     },
     "execution_count": 53,
     "metadata": {},
     "output_type": "execute_result"
    }
   ],
   "source": [
    "#get the column 'Age' of the dataframe df, using dataframe_name[column_name]\n",
    "#your code:\n",
    "df['Age']"
   ]
  },
  {
   "cell_type": "code",
   "execution_count": 54,
   "metadata": {},
   "outputs": [
    {
     "data": {
      "text/plain": [
       "0     30\n",
       "1     40\n",
       "2     85\n",
       "3     75\n",
       "4     95\n",
       "5    100\n",
       "Name: Age, dtype: int64"
      ]
     },
     "execution_count": 54,
     "metadata": {},
     "output_type": "execute_result"
    }
   ],
   "source": [
    "#get the column 'Age' of the dataframe df, using dataframe_name.column_name\n",
    "#your code:\n",
    "df.Age"
   ]
  },
  {
   "cell_type": "markdown",
   "metadata": {},
   "source": [
    "### add new columns to the dataframe df"
   ]
  },
  {
   "cell_type": "code",
   "execution_count": 55,
   "metadata": {},
   "outputs": [],
   "source": [
    "#add a new column 'smoking' to the dataframe df\n",
    "#see the output of the next cell\n",
    "#your code:\n",
    "df['smoking'] = [0, 1, 7, 1, 0, 0]"
   ]
  },
  {
   "cell_type": "code",
   "execution_count": 56,
   "metadata": {},
   "outputs": [
    {
     "name": "stdout",
     "output_type": "stream",
     "text": [
      "   Age Gender  Tumor_size_mm  smoking\n",
      "0   30      M            1.0        0\n",
      "1   40      F            2.0        1\n",
      "2   85      F            0.1        7\n",
      "3   75      M            1.0        1\n",
      "4   95      F            3.0        0\n",
      "5  100      M            1.0        0\n"
     ]
    }
   ],
   "source": [
    "#note:\n",
    "#smoking=0: never smoke cigarettes\n",
    "#smoking=1: 1 day per week\n",
    "#smoking=7: everyday (7 days per week)\n",
    "#show all the rows of the dataframe df, using print\n",
    "#your code:\n",
    "print(df)"
   ]
  },
  {
   "cell_type": "code",
   "execution_count": 57,
   "metadata": {},
   "outputs": [],
   "source": [
    "#add a new column 'height' to the dataframe df\n",
    "#see the output of the next cell\n",
    "#your code:\n",
    "df['height'] = [1.6, 1.7, 1.8, 1.5, 1.9, 1.7]"
   ]
  },
  {
   "cell_type": "code",
   "execution_count": 58,
   "metadata": {},
   "outputs": [
    {
     "name": "stdout",
     "output_type": "stream",
     "text": [
      "   Age Gender  Tumor_size_mm  smoking  height\n",
      "0   30      M            1.0        0     1.6\n",
      "1   40      F            2.0        1     1.7\n",
      "2   85      F            0.1        7     1.8\n",
      "3   75      M            1.0        1     1.5\n",
      "4   95      F            3.0        0     1.9\n",
      "5  100      M            1.0        0     1.7\n"
     ]
    }
   ],
   "source": [
    "#show all the rows of the dataframe df, using print\n",
    "#your code:\n",
    "print(df)"
   ]
  },
  {
   "cell_type": "code",
   "execution_count": 59,
   "metadata": {},
   "outputs": [],
   "source": [
    "#add a new column 'weight' to the dataframe df\n",
    "#see the output of the next cell\n",
    "#your code:\n",
    "df['weight'] = [60,70,80,50,90,60]"
   ]
  },
  {
   "cell_type": "code",
   "execution_count": 60,
   "metadata": {},
   "outputs": [
    {
     "name": "stdout",
     "output_type": "stream",
     "text": [
      "   Age Gender  Tumor_size_mm  smoking  height  weight\n",
      "0   30      M            1.0        0     1.6      60\n",
      "1   40      F            2.0        1     1.7      70\n",
      "2   85      F            0.1        7     1.8      80\n",
      "3   75      M            1.0        1     1.5      50\n",
      "4   95      F            3.0        0     1.9      90\n",
      "5  100      M            1.0        0     1.7      60\n"
     ]
    }
   ],
   "source": [
    "#show all the rows of the dataframe df, using print\n",
    "#your code:\n",
    "print(df)"
   ]
  },
  {
   "cell_type": "markdown",
   "metadata": {},
   "source": [
    "### add a new row to the dataframe, using dataframe_name.iloc[n]=[...]"
   ]
  },
  {
   "cell_type": "code",
   "execution_count": 61,
   "metadata": {},
   "outputs": [],
   "source": [
    "#add a new row (a patient record) to the dataframe df\n",
    "#your code:\n",
    "df.loc[len(df)] = [100, 'F', 0.5, 0, 1.6, 70]"
   ]
  },
  {
   "cell_type": "code",
   "execution_count": 62,
   "metadata": {},
   "outputs": [
    {
     "name": "stdout",
     "output_type": "stream",
     "text": [
      "   Age Gender  Tumor_size_mm  smoking  height  weight\n",
      "0   30      M            1.0        0     1.6      60\n",
      "1   40      F            2.0        1     1.7      70\n",
      "2   85      F            0.1        7     1.8      80\n",
      "3   75      M            1.0        1     1.5      50\n",
      "4   95      F            3.0        0     1.9      90\n",
      "5  100      M            1.0        0     1.7      60\n",
      "6  100      F            0.5        0     1.6      70\n"
     ]
    }
   ],
   "source": [
    "#show all the rows of the dataframe df, using print\n",
    "#your code:\n",
    "print(df)"
   ]
  },
  {
   "cell_type": "markdown",
   "metadata": {},
   "source": [
    "### compute BMI and add a new column 'BMI'"
   ]
  },
  {
   "cell_type": "code",
   "execution_count": 63,
   "metadata": {},
   "outputs": [],
   "source": [
    "# BMI (Body mass index) = weight /(height*height)\n",
    "#see the output of the next cell\n",
    "#your code:\n",
    "df['BMI'] = df['weight'] / (df['height'] * df['height'])"
   ]
  },
  {
   "cell_type": "code",
   "execution_count": 64,
   "metadata": {},
   "outputs": [
    {
     "name": "stdout",
     "output_type": "stream",
     "text": [
      "   Age Gender  Tumor_size_mm  smoking  height  weight        BMI\n",
      "0   30      M            1.0        0     1.6      60  23.437500\n",
      "1   40      F            2.0        1     1.7      70  24.221453\n",
      "2   85      F            0.1        7     1.8      80  24.691358\n",
      "3   75      M            1.0        1     1.5      50  22.222222\n",
      "4   95      F            3.0        0     1.9      90  24.930748\n",
      "5  100      M            1.0        0     1.7      60  20.761246\n",
      "6  100      F            0.5        0     1.6      70  27.343750\n"
     ]
    }
   ],
   "source": [
    "#show all the rows of the dataframe df, using print\n",
    "#your code:\n",
    "print(df)"
   ]
  },
  {
   "cell_type": "markdown",
   "metadata": {},
   "source": [
    "### select two columns `Age` and `BMI` and make a new dataframe `df_age_bmi`"
   ]
  },
  {
   "cell_type": "code",
   "execution_count": 65,
   "metadata": {},
   "outputs": [],
   "source": [
    "#select the columns 'Age' and 'BMI' to make a new dataframe\n",
    "#name the new dataframe as df_age_bmi\n",
    "#your code:\n",
    "df_age_bmi = df[['Age', 'BMI']]"
   ]
  },
  {
   "cell_type": "code",
   "execution_count": 66,
   "metadata": {},
   "outputs": [
    {
     "name": "stdout",
     "output_type": "stream",
     "text": [
      "   Age        BMI\n",
      "0   30  23.437500\n",
      "1   40  24.221453\n",
      "2   85  24.691358\n",
      "3   75  22.222222\n",
      "4   95  24.930748\n",
      "5  100  20.761246\n",
      "6  100  27.343750\n"
     ]
    }
   ],
   "source": [
    "#show all the rows of the dataframe df_age_bmi\n",
    "#your code:\n",
    "print(df_age_bmi)"
   ]
  },
  {
   "cell_type": "markdown",
   "metadata": {},
   "source": [
    "### convert the dataframe `df_age_bmi` to a Numpy array, and then make a plot"
   ]
  },
  {
   "cell_type": "code",
   "execution_count": 67,
   "metadata": {},
   "outputs": [],
   "source": [
    "#convert df_age_bmi to a numpy array, using dataframe_name.values\n",
    "#your code:\n",
    "df_age_bmi = np.array(df_age_bmi.values)"
   ]
  },
  {
   "cell_type": "code",
   "execution_count": 68,
   "metadata": {},
   "outputs": [
    {
     "data": {
      "text/plain": [
       "array([[ 30.        ,  23.4375    ],\n",
       "       [ 40.        ,  24.22145329],\n",
       "       [ 85.        ,  24.69135802],\n",
       "       [ 75.        ,  22.22222222],\n",
       "       [ 95.        ,  24.93074792],\n",
       "       [100.        ,  20.76124567],\n",
       "       [100.        ,  27.34375   ]])"
      ]
     },
     "execution_count": 68,
     "metadata": {},
     "output_type": "execute_result"
    }
   ],
   "source": [
    "#do not edit this cell\n",
    "df_age_bmi"
   ]
  },
  {
   "cell_type": "code",
   "execution_count": 69,
   "metadata": {},
   "outputs": [
    {
     "data": {
      "text/plain": [
       "numpy.ndarray"
      ]
     },
     "execution_count": 69,
     "metadata": {},
     "output_type": "execute_result"
    }
   ],
   "source": [
    "#check the type of df_age_bmi\n",
    "#your code:\n",
    "type(df_age_bmi)"
   ]
  },
  {
   "cell_type": "code",
   "execution_count": 70,
   "metadata": {},
   "outputs": [
    {
     "data": {
      "image/png": "[encoded data removed]",
      "text/plain": [
       "<Figure size 640x480 with 1 Axes>"
      ]
     },
     "metadata": {},
     "output_type": "display_data"
    }
   ],
   "source": [
    "# plot age vs BMI\n",
    "#your code:\n",
    "import matplotlib.pyplot as plt\n",
    "\n",
    "plt.scatter(df['Age'], df['BMI'])\n",
    "plt.xlabel('Age')\n",
    "plt.ylabel('BMI')\n",
    "plt.title('Age vs BMI')\n",
    "plt.show()"
   ]
  },
  {
   "cell_type": "markdown",
   "metadata": {},
   "source": [
    "### Save the dataframe `df` to a csv file"
   ]
  },
  {
   "cell_type": "code",
   "execution_count": 71,
   "metadata": {},
   "outputs": [],
   "source": [
    "#save the Dataframe df to a csv file: 'patient_record_new.csv', using dataframe_name.to_csv(filename, index=?)\n",
    "#set index=False, so the row indexes will not be saved  \n",
    "#your code:\n",
    "df.to_csv('patient_record_new.csv', index=False)"
   ]
  },
  {
   "cell_type": "markdown",
   "metadata": {},
   "source": [
    "### Load the new file 'patient_record_new.csv'"
   ]
  },
  {
   "cell_type": "code",
   "execution_count": 72,
   "metadata": {},
   "outputs": [],
   "source": [
    "#load the data into a datafame named df\n",
    "#your code:\n",
    "df = pd.read_csv('patient_record_new.csv')"
   ]
  },
  {
   "cell_type": "code",
   "execution_count": 73,
   "metadata": {},
   "outputs": [
    {
     "data": {
      "text/html": [
       "<div>\n",
       "<style scoped>\n",
       "    .dataframe tbody tr th:only-of-type {\n",
       "        vertical-align: middle;\n",
       "    }\n",
       "\n",
       "    .dataframe tbody tr th {\n",
       "        vertical-align: top;\n",
       "    }\n",
       "\n",
       "    .dataframe thead th {\n",
       "        text-align: right;\n",
       "    }\n",
       "</style>\n",
       "<table border=\"1\" class=\"dataframe\">\n",
       "  <thead>\n",
       "    <tr style=\"text-align: right;\">\n",
       "      <th></th>\n",
       "      <th>Age</th>\n",
       "      <th>Gender</th>\n",
       "      <th>Tumor_size_mm</th>\n",
       "      <th>smoking</th>\n",
       "      <th>height</th>\n",
       "      <th>weight</th>\n",
       "      <th>BMI</th>\n",
       "    </tr>\n",
       "  </thead>\n",
       "  <tbody>\n",
       "    <tr>\n",
       "      <th>0</th>\n",
       "      <td>30</td>\n",
       "      <td>M</td>\n",
       "      <td>1.0</td>\n",
       "      <td>0</td>\n",
       "      <td>1.6</td>\n",
       "      <td>60</td>\n",
       "      <td>23.437500</td>\n",
       "    </tr>\n",
       "    <tr>\n",
       "      <th>1</th>\n",
       "      <td>40</td>\n",
       "      <td>F</td>\n",
       "      <td>2.0</td>\n",
       "      <td>1</td>\n",
       "      <td>1.7</td>\n",
       "      <td>70</td>\n",
       "      <td>24.221453</td>\n",
       "    </tr>\n",
       "    <tr>\n",
       "      <th>2</th>\n",
       "      <td>85</td>\n",
       "      <td>F</td>\n",
       "      <td>0.1</td>\n",
       "      <td>7</td>\n",
       "      <td>1.8</td>\n",
       "      <td>80</td>\n",
       "      <td>24.691358</td>\n",
       "    </tr>\n",
       "    <tr>\n",
       "      <th>3</th>\n",
       "      <td>75</td>\n",
       "      <td>M</td>\n",
       "      <td>1.0</td>\n",
       "      <td>1</td>\n",
       "      <td>1.5</td>\n",
       "      <td>50</td>\n",
       "      <td>22.222222</td>\n",
       "    </tr>\n",
       "    <tr>\n",
       "      <th>4</th>\n",
       "      <td>95</td>\n",
       "      <td>F</td>\n",
       "      <td>3.0</td>\n",
       "      <td>0</td>\n",
       "      <td>1.9</td>\n",
       "      <td>90</td>\n",
       "      <td>24.930748</td>\n",
       "    </tr>\n",
       "    <tr>\n",
       "      <th>5</th>\n",
       "      <td>100</td>\n",
       "      <td>M</td>\n",
       "      <td>1.0</td>\n",
       "      <td>0</td>\n",
       "      <td>1.7</td>\n",
       "      <td>60</td>\n",
       "      <td>20.761246</td>\n",
       "    </tr>\n",
       "    <tr>\n",
       "      <th>6</th>\n",
       "      <td>100</td>\n",
       "      <td>F</td>\n",
       "      <td>0.5</td>\n",
       "      <td>0</td>\n",
       "      <td>1.6</td>\n",
       "      <td>70</td>\n",
       "      <td>27.343750</td>\n",
       "    </tr>\n",
       "  </tbody>\n",
       "</table>\n",
       "</div>"
      ],
      "text/plain": [
       "   Age Gender  Tumor_size_mm  smoking  height  weight        BMI\n",
       "0   30      M            1.0        0     1.6      60  23.437500\n",
       "1   40      F            2.0        1     1.7      70  24.221453\n",
       "2   85      F            0.1        7     1.8      80  24.691358\n",
       "3   75      M            1.0        1     1.5      50  22.222222\n",
       "4   95      F            3.0        0     1.9      90  24.930748\n",
       "5  100      M            1.0        0     1.7      60  20.761246\n",
       "6  100      F            0.5        0     1.6      70  27.343750"
      ]
     },
     "execution_count": 73,
     "metadata": {},
     "output_type": "execute_result"
    }
   ],
   "source": [
    "#do not edit this cell\n",
    "df"
   ]
  },
  {
   "cell_type": "code",
   "execution_count": 74,
   "metadata": {},
   "outputs": [
    {
     "name": "stdout",
     "output_type": "stream",
     "text": [
      "   Age Gender  Tumor_size_mm  smoking  height  weight        BMI\n",
      "0   30      M            1.0        0     1.6      60  23.437500\n",
      "1   40      F            2.0        1     1.7      70  24.221453\n",
      "2   85      F            0.1        7     1.8      80  24.691358\n",
      "3   75      M            1.0        1     1.5      50  22.222222\n",
      "4   95      F            3.0        0     1.9      90  24.930748\n",
      "5  100      M            1.0        0     1.7      60  20.761246\n",
      "6  100      F            0.5        0     1.6      70  27.343750\n"
     ]
    }
   ],
   "source": [
    "#do not edit this cell\n",
    "print(df)"
   ]
  }
 ],
 "metadata": {
  "kernelspec": {
   "display_name": "Python (ds)",
   "language": "python",
   "name": "ds"
  },
  "language_info": {
   "codemirror_mode": {
    "name": "ipython",
    "version": 3
   },
   "file_extension": ".py",
   "mimetype": "text/x-python",
   "name": "python",
   "nbconvert_exporter": "python",
   "pygments_lexer": "ipython3",
   "version": "3.12.11"
  }
 },
 "nbformat": 4,
 "nbformat_minor": 4
}
