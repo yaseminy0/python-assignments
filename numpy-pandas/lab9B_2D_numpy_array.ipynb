{
 "cells": [
  {
   "cell_type": "markdown",
   "id": "e520c148",
   "metadata": {},
   "source": [
    "# Lab9B: 2D Numpy Array (12 points)"
   ]
  },
  {
   "cell_type": "code",
   "execution_count": 1,
   "id": "4f075c4f",
   "metadata": {},
   "outputs": [],
   "source": [
    "import numpy as np"
   ]
  },
  {
   "cell_type": "markdown",
   "id": "a4e72b43",
   "metadata": {},
   "source": [
    "## Task 1: create a 2D numpy array from a nested list and do some operations (6 points)"
   ]
  },
  {
   "cell_type": "code",
   "execution_count": 2,
   "id": "327c86d9",
   "metadata": {},
   "outputs": [
    {
     "data": {
      "text/plain": [
       "[[10, 11, 12], [13, 14, 15], [16, 17, 18], [19, 20, 21]]"
      ]
     },
     "execution_count": 2,
     "metadata": {},
     "output_type": "execute_result"
    }
   ],
   "source": [
    "A_list = [[10, 11, 12],\n",
    "          [13, 14, 15],\n",
    "          [16, 17, 18],\n",
    "          [19, 20, 21]]\n",
    "A_list"
   ]
  },
  {
   "cell_type": "code",
   "execution_count": 4,
   "id": "009faa91",
   "metadata": {},
   "outputs": [],
   "source": [
    "#your code to creat a numpuy array A from A_list, and set data type (dtype) to float32\n",
    "#(0.5 point)\n",
    "A = np.array(A_list, dtype=\"float32\")"
   ]
  },
  {
   "cell_type": "code",
   "execution_count": 5,
   "id": "3db79022-0f30-4dc1-be77-85b091fcb7b9",
   "metadata": {},
   "outputs": [
    {
     "data": {
      "text/plain": [
       "array([[10., 11., 12.],\n",
       "       [13., 14., 15.],\n",
       "       [16., 17., 18.],\n",
       "       [19., 20., 21.]], dtype=float32)"
      ]
     },
     "execution_count": 5,
     "metadata": {},
     "output_type": "execute_result"
    }
   ],
   "source": [
    "A"
   ]
  },
  {
   "cell_type": "code",
   "execution_count": 6,
   "id": "03bf8940",
   "metadata": {},
   "outputs": [
    {
     "data": {
      "text/plain": [
       "(4, 3)"
      ]
     },
     "execution_count": 6,
     "metadata": {},
     "output_type": "execute_result"
    }
   ],
   "source": [
    "#your code to show the shape\n",
    "A.shape"
   ]
  },
  {
   "cell_type": "code",
   "execution_count": 7,
   "id": "cebab3de",
   "metadata": {},
   "outputs": [
    {
     "data": {
      "text/plain": [
       "numpy.ndarray"
      ]
     },
     "execution_count": 7,
     "metadata": {},
     "output_type": "execute_result"
    }
   ],
   "source": [
    "#your code to show the type\n",
    "type(A)"
   ]
  },
  {
   "cell_type": "code",
   "execution_count": 8,
   "id": "3d951dff",
   "metadata": {},
   "outputs": [
    {
     "data": {
      "text/plain": [
       "array([[10., 11., 12.],\n",
       "       [13., 14., 15.],\n",
       "       [16., 17., 18.],\n",
       "       [19., 20., 21.]], dtype=float32)"
      ]
     },
     "execution_count": 8,
     "metadata": {},
     "output_type": "execute_result"
    }
   ],
   "source": [
    "A"
   ]
  },
  {
   "cell_type": "markdown",
   "id": "c948dcc3",
   "metadata": {},
   "source": [
    "### (1.1) get a row of A, using A[n,:]  (0.5 point)"
   ]
  },
  {
   "cell_type": "code",
   "execution_count": 8,
   "id": "8b54eec6",
   "metadata": {},
   "outputs": [
    {
     "data": {
      "text/plain": [
       "array([13., 14., 15.], dtype=float32)"
      ]
     },
     "execution_count": 8,
     "metadata": {},
     "output_type": "execute_result"
    }
   ],
   "source": [
    "#get the second row of A using nonnegative indexing\n"
   ]
  },
  {
   "cell_type": "code",
   "execution_count": 9,
   "id": "7b79ce0d",
   "metadata": {},
   "outputs": [
    {
     "data": {
      "text/plain": [
       "array([13., 14., 15.], dtype=float32)"
      ]
     },
     "execution_count": 9,
     "metadata": {},
     "output_type": "execute_result"
    }
   ],
   "source": [
    "#get the second row of A using negative indexing\n"
   ]
  },
  {
   "cell_type": "code",
   "execution_count": 10,
   "id": "1fa674e3",
   "metadata": {},
   "outputs": [
    {
     "data": {
      "text/plain": [
       "array([[10., 11., 12.],\n",
       "       [13., 14., 15.],\n",
       "       [16., 17., 18.],\n",
       "       [19., 20., 21.]], dtype=float32)"
      ]
     },
     "execution_count": 10,
     "metadata": {},
     "output_type": "execute_result"
    }
   ],
   "source": [
    "A"
   ]
  },
  {
   "cell_type": "markdown",
   "id": "ea1c3845",
   "metadata": {},
   "source": [
    "### (1.2) get a column of A, using A[:,n]   (0.5 point)"
   ]
  },
  {
   "cell_type": "code",
   "execution_count": 9,
   "id": "ae7ba541",
   "metadata": {},
   "outputs": [
    {
     "data": {
      "text/plain": [
       "array([12., 15., 18., 21.], dtype=float32)"
      ]
     },
     "execution_count": 9,
     "metadata": {},
     "output_type": "execute_result"
    }
   ],
   "source": [
    "#get the third column of A using nonegative indexing\n",
    "A[0:,2]"
   ]
  },
  {
   "cell_type": "code",
   "execution_count": 18,
   "id": "991febcc",
   "metadata": {},
   "outputs": [
    {
     "data": {
      "text/plain": [
       "array([12., 15., 18., 21.], dtype=float32)"
      ]
     },
     "execution_count": 18,
     "metadata": {},
     "output_type": "execute_result"
    }
   ],
   "source": [
    "#get the third column of A using negative indexing\n",
    "A[-4:,-1]"
   ]
  },
  {
   "cell_type": "code",
   "execution_count": 11,
   "id": "fdd6d67a",
   "metadata": {},
   "outputs": [
    {
     "data": {
      "text/plain": [
       "array([[10., 11., 12.],\n",
       "       [13., 14., 15.],\n",
       "       [16., 17., 18.],\n",
       "       [19., 20., 21.]], dtype=float32)"
      ]
     },
     "execution_count": 11,
     "metadata": {},
     "output_type": "execute_result"
    }
   ],
   "source": [
    "A"
   ]
  },
  {
   "cell_type": "markdown",
   "id": "42d979f6",
   "metadata": {},
   "source": [
    "### (1.3) get a sub-array of A by array slicing, using A[a:b, c:d]   (0.5 point)"
   ]
  },
  {
   "cell_type": "code",
   "execution_count": 24,
   "id": "6de2bcd0",
   "metadata": {},
   "outputs": [
    {
     "data": {
      "text/plain": [
       "array([[14., 15.],\n",
       "       [17., 18.],\n",
       "       [20., 21.]], dtype=float32)"
      ]
     },
     "execution_count": 24,
     "metadata": {},
     "output_type": "execute_result"
    }
   ],
   "source": [
    "# get a sub-array of A using nonegative indexing\n",
    "A[1:4, 1:3]\n"
   ]
  },
  {
   "cell_type": "code",
   "execution_count": 31,
   "id": "618febe9",
   "metadata": {},
   "outputs": [
    {
     "data": {
      "text/plain": [
       "array([[14., 15.],\n",
       "       [17., 18.],\n",
       "       [20., 21.]], dtype=float32)"
      ]
     },
     "execution_count": 31,
     "metadata": {},
     "output_type": "execute_result"
    }
   ],
   "source": [
    "# get a sub-array of A using negative indexing\n",
    "A[-3:,-2:]"
   ]
  },
  {
   "cell_type": "code",
   "execution_count": 16,
   "id": "daebae9d",
   "metadata": {},
   "outputs": [
    {
     "data": {
      "text/plain": [
       "array([[10., 11., 12.],\n",
       "       [13., 14., 15.],\n",
       "       [16., 17., 18.],\n",
       "       [19., 20., 21.]], dtype=float32)"
      ]
     },
     "execution_count": 16,
     "metadata": {},
     "output_type": "execute_result"
    }
   ],
   "source": [
    "A"
   ]
  },
  {
   "cell_type": "markdown",
   "id": "ff8379e8",
   "metadata": {},
   "source": [
    "### (1.4) get a sub-array of A    (0.5 point)"
   ]
  },
  {
   "cell_type": "code",
   "execution_count": 33,
   "id": "5bb1f021",
   "metadata": {},
   "outputs": [
    {
     "data": {
      "text/plain": [
       "array([[10., 12.],\n",
       "       [16., 18.]], dtype=float32)"
      ]
     },
     "execution_count": 33,
     "metadata": {},
     "output_type": "execute_result"
    }
   ],
   "source": [
    "#one line of code:\n",
    "A[[0, 2], :][:, [0, 2]]\n"
   ]
  },
  {
   "cell_type": "markdown",
   "id": "f61c15a5",
   "metadata": {},
   "source": [
    "### (1.5) get maximum, minimum, average, standard deviation of each row in A    (0.5 point)\n",
    "```\n",
    "use the array methods: you can get a list of the methods by using dir(A) \n",
    "do NOT use for/while loop\n",
    "```"
   ]
  },
  {
   "cell_type": "code",
   "execution_count": 34,
   "id": "47834ce5",
   "metadata": {},
   "outputs": [
    {
     "data": {
      "text/plain": [
       "array([12., 15., 18., 21.], dtype=float32)"
      ]
     },
     "execution_count": 34,
     "metadata": {},
     "output_type": "execute_result"
    }
   ],
   "source": [
    "#your code to get maximum of each row\n",
    "np.max(A, axis=1)\n"
   ]
  },
  {
   "cell_type": "code",
   "execution_count": 35,
   "id": "4e7c4ac5",
   "metadata": {},
   "outputs": [
    {
     "data": {
      "text/plain": [
       "array([10., 13., 16., 19.], dtype=float32)"
      ]
     },
     "execution_count": 35,
     "metadata": {},
     "output_type": "execute_result"
    }
   ],
   "source": [
    "#your code to get minimum of each row\n",
    "np.min(A, axis=1)"
   ]
  },
  {
   "cell_type": "code",
   "execution_count": 36,
   "id": "ab786f03",
   "metadata": {},
   "outputs": [
    {
     "data": {
      "text/plain": [
       "array([11., 14., 17., 20.], dtype=float32)"
      ]
     },
     "execution_count": 36,
     "metadata": {},
     "output_type": "execute_result"
    }
   ],
   "source": [
    "#your code to get average of each row\n",
    "np.mean(A, axis=1)"
   ]
  },
  {
   "cell_type": "code",
   "execution_count": 37,
   "id": "a4a11e9b",
   "metadata": {},
   "outputs": [
    {
     "data": {
      "text/plain": [
       "array([0.8164966, 0.8164966, 0.8164966, 0.8164966], dtype=float32)"
      ]
     },
     "execution_count": 37,
     "metadata": {},
     "output_type": "execute_result"
    }
   ],
   "source": [
    "#your code to get standard deviation of each row\n",
    "np.std(A, axis=1)"
   ]
  },
  {
   "cell_type": "code",
   "execution_count": 38,
   "id": "9bd61bcb",
   "metadata": {},
   "outputs": [
    {
     "data": {
      "text/plain": [
       "array([[10., 11., 12.],\n",
       "       [13., 14., 15.],\n",
       "       [16., 17., 18.],\n",
       "       [19., 20., 21.]], dtype=float32)"
      ]
     },
     "execution_count": 38,
     "metadata": {},
     "output_type": "execute_result"
    }
   ],
   "source": [
    "A"
   ]
  },
  {
   "cell_type": "markdown",
   "id": "131435c1",
   "metadata": {},
   "source": [
    "### (1.6) get the average value of the elements in each row of A, and store the result in a 1D array   (1 point)\n",
    "```\n",
    "method 1: use a for loop\n",
    "method 2: use numpy array method: mean(axis=0 or 1)\n",
    "```"
   ]
  },
  {
   "cell_type": "code",
   "execution_count": 46,
   "id": "f4ae9595",
   "metadata": {},
   "outputs": [
    {
     "data": {
      "text/plain": [
       "array([11., 14., 17., 20.], dtype=float32)"
      ]
     },
     "execution_count": 46,
     "metadata": {},
     "output_type": "execute_result"
    }
   ],
   "source": [
    "##your code for method 1\n",
    "\n",
    "row_mean = []\n",
    "for row in A:\n",
    "    row_mean.append(np.mean(row))\n",
    "row_mean = np.array(row_mean)\n",
    "\n",
    "#show it here\n",
    "row_mean"
   ]
  },
  {
   "cell_type": "code",
   "execution_count": 42,
   "id": "37b1c76b",
   "metadata": {},
   "outputs": [
    {
     "data": {
      "text/plain": [
       "array([11., 14., 17., 20.], dtype=float32)"
      ]
     },
     "execution_count": 42,
     "metadata": {},
     "output_type": "execute_result"
    }
   ],
   "source": [
    "##your code for method 2\n",
    "A.mean(axis=1)"
   ]
  },
  {
   "cell_type": "code",
   "execution_count": 25,
   "id": "4ddf47eb",
   "metadata": {},
   "outputs": [
    {
     "data": {
      "text/plain": [
       "array([[10., 11., 12.],\n",
       "       [13., 14., 15.],\n",
       "       [16., 17., 18.],\n",
       "       [19., 20., 21.]], dtype=float32)"
      ]
     },
     "execution_count": 25,
     "metadata": {},
     "output_type": "execute_result"
    }
   ],
   "source": [
    "A"
   ]
  },
  {
   "cell_type": "markdown",
   "id": "fdce5bb1",
   "metadata": {},
   "source": [
    "### (1.7) get the average value of the elements in each row of A, and store the result in a 2D array   (0.5 point)\n",
    "```\n",
    "use numpy array method: mean(axis=0 or 1, keepdims=True or False)\n",
    "```"
   ]
  },
  {
   "cell_type": "code",
   "execution_count": 47,
   "id": "64631f9c",
   "metadata": {},
   "outputs": [
    {
     "data": {
      "text/plain": [
       "array([[11.],\n",
       "       [14.],\n",
       "       [17.],\n",
       "       [20.]], dtype=float32)"
      ]
     },
     "execution_count": 47,
     "metadata": {},
     "output_type": "execute_result"
    }
   ],
   "source": [
    "#your code\n",
    "A.mean(axis=1, keepdims=True)\n"
   ]
  },
  {
   "cell_type": "code",
   "execution_count": 27,
   "id": "aeb56284",
   "metadata": {},
   "outputs": [
    {
     "data": {
      "text/plain": [
       "array([[10., 11., 12.],\n",
       "       [13., 14., 15.],\n",
       "       [16., 17., 18.],\n",
       "       [19., 20., 21.]], dtype=float32)"
      ]
     },
     "execution_count": 27,
     "metadata": {},
     "output_type": "execute_result"
    }
   ],
   "source": [
    "A"
   ]
  },
  {
   "cell_type": "markdown",
   "id": "50be049f",
   "metadata": {},
   "source": [
    "### (1.8) get the average value of the elements in each column of A, and store the result in a 1D array   (1 point)\n",
    "```\n",
    "method 1: use a for loop\n",
    "method 2: use numpy array method: mean(axis=0 or 1) \n",
    "```"
   ]
  },
  {
   "cell_type": "code",
   "execution_count": 54,
   "id": "f1d411bf",
   "metadata": {},
   "outputs": [
    {
     "data": {
      "text/plain": [
       "array([14.5, 15.5, 16.5], dtype=float32)"
      ]
     },
     "execution_count": 54,
     "metadata": {},
     "output_type": "execute_result"
    }
   ],
   "source": [
    "##your code for method 1\n",
    "col_mean = []\n",
    "for j in range(A.shape[1]):\n",
    "    col_mean.append(np.mean(A[:,j]))\n",
    "col_mean = np.array(col_mean)\n",
    "\n",
    "\n",
    "#show it here\n",
    "col_mean"
   ]
  },
  {
   "cell_type": "code",
   "execution_count": 55,
   "id": "917c47a5",
   "metadata": {},
   "outputs": [
    {
     "data": {
      "text/plain": [
       "array([14.5, 15.5, 16.5], dtype=float32)"
      ]
     },
     "execution_count": 55,
     "metadata": {},
     "output_type": "execute_result"
    }
   ],
   "source": [
    "##your code for method 2\n",
    "A.mean(axis=0)"
   ]
  },
  {
   "cell_type": "code",
   "execution_count": 56,
   "id": "1135a9ec",
   "metadata": {},
   "outputs": [
    {
     "data": {
      "text/plain": [
       "array([[10., 11., 12.],\n",
       "       [13., 14., 15.],\n",
       "       [16., 17., 18.],\n",
       "       [19., 20., 21.]], dtype=float32)"
      ]
     },
     "execution_count": 56,
     "metadata": {},
     "output_type": "execute_result"
    }
   ],
   "source": [
    "A"
   ]
  },
  {
   "cell_type": "markdown",
   "id": "6e641b7c",
   "metadata": {},
   "source": [
    "### (1.9) get the average value of the elements in each column of A, and store the result in a 2D array   (0.5 point)\n",
    "```\n",
    "numpy array method: mean(axis=0 or 1, keepdims=True or False) \n",
    "```"
   ]
  },
  {
   "cell_type": "code",
   "execution_count": 62,
   "id": "8bbcdb2f",
   "metadata": {},
   "outputs": [
    {
     "data": {
      "text/plain": [
       "array([[14.5, 15.5, 16.5]], dtype=float32)"
      ]
     },
     "execution_count": 62,
     "metadata": {},
     "output_type": "execute_result"
    }
   ],
   "source": [
    "#your code\n",
    "A.mean(axis=0, keepdims=True)"
   ]
  },
  {
   "cell_type": "markdown",
   "id": "6a3c10fe",
   "metadata": {},
   "source": [
    "## Task-2: calculate the euclidean distance between two points in 3D (6 points)"
   ]
  },
  {
   "cell_type": "code",
   "execution_count": 68,
   "id": "05e0d329",
   "metadata": {},
   "outputs": [],
   "source": [
    "P = np.array([[0, 0, 0],\n",
    "              [1, 0, 0],\n",
    "              [0, 1, 0],\n",
    "              [1, 1, 0],\n",
    "              [0, 0, 1],\n",
    "              [1, 0, 1],\n",
    "              [0, 1, 1],\n",
    "              [1, 1, 1]],\n",
    "             dtype='float32')"
   ]
  },
  {
   "cell_type": "code",
   "execution_count": 71,
   "id": "f9a25d30",
   "metadata": {},
   "outputs": [
    {
     "data": {
      "text/plain": [
       "array([0., 0., 0.], dtype=float32)"
      ]
     },
     "execution_count": 71,
     "metadata": {},
     "output_type": "execute_result"
    }
   ],
   "source": [
    "#point-0 in P\n",
    "P[0] # the same as P[0,:]\n"
   ]
  },
  {
   "cell_type": "code",
   "execution_count": 72,
   "id": "abf5adc6",
   "metadata": {},
   "outputs": [
    {
     "name": "stdout",
     "output_type": "stream",
     "text": [
      "point-0 in P is [0. 0. 0.]\n",
      "point-1 in P is [1. 0. 0.]\n",
      "point-2 in P is [0. 1. 0.]\n",
      "point-3 in P is [1. 1. 0.]\n",
      "point-4 in P is [0. 0. 1.]\n",
      "point-5 in P is [1. 0. 1.]\n",
      "point-6 in P is [0. 1. 1.]\n",
      "point-7 in P is [1. 1. 1.]\n"
     ]
    }
   ],
   "source": [
    "for n in range(0, P.shape[0]):\n",
    "    print('point-'+str(n)+' in P is', P[n])"
   ]
  },
  {
   "cell_type": "code",
   "execution_count": 73,
   "id": "c088915f",
   "metadata": {},
   "outputs": [
    {
     "data": {
      "text/plain": [
       "array([2., 2., 2.], dtype=float32)"
      ]
     },
     "execution_count": 73,
     "metadata": {},
     "output_type": "execute_result"
    }
   ],
   "source": [
    "#define a new point p_new\n",
    "p_new = np.array([2, 2, 2], dtype='float32')\n",
    "p_new"
   ]
  },
  {
   "cell_type": "markdown",
   "id": "ed53f5d9",
   "metadata": {},
   "source": [
    "calculate the distance between p_new and P[n], n is from 0 to 7 \\\n",
    "store the result in an array `dist` \\\n",
    "dist[n] is the distance between p_new and P[n]"
   ]
  },
  {
   "cell_type": "code",
   "execution_count": 75,
   "id": "14850f00",
   "metadata": {},
   "outputs": [],
   "source": [
    "#use a for loop to get dist\n",
    "#your code\n",
    "dist = np.zeros(len(P), dtype='float32')  # boş dizi hazırla\n",
    "\n",
    "for n in range(len(P)):\n",
    "    dist[n] = np.linalg.norm(p_new - P[n])"
   ]
  },
  {
   "cell_type": "code",
   "execution_count": 76,
   "id": "747c3c16-3163-4be4-bf8e-37c85963f823",
   "metadata": {},
   "outputs": [
    {
     "data": {
      "text/plain": [
       "array([3.4641016, 3.       , 3.       , 2.4494898, 3.       , 2.4494898,\n",
       "       2.4494898, 1.7320508], dtype=float32)"
      ]
     },
     "execution_count": 76,
     "metadata": {},
     "output_type": "execute_result"
    }
   ],
   "source": [
    "dist"
   ]
  },
  {
   "cell_type": "code",
   "execution_count": 77,
   "id": "0fa0077c",
   "metadata": {},
   "outputs": [],
   "source": [
    "#one line of code using np.sqrt and np.sum to get dist\n",
    "#your code\n",
    "dist = np.sqrt(np.sum((P - p_new)**2, axis=1))"
   ]
  },
  {
   "cell_type": "code",
   "execution_count": 78,
   "id": "eae05dc9-9fa1-4fa8-91b8-d6f95e7469fb",
   "metadata": {},
   "outputs": [
    {
     "data": {
      "text/plain": [
       "array([3.4641016, 3.       , 3.       , 2.4494898, 3.       , 2.4494898,\n",
       "       2.4494898, 1.7320508], dtype=float32)"
      ]
     },
     "execution_count": 78,
     "metadata": {},
     "output_type": "execute_result"
    }
   ],
   "source": [
    "dist"
   ]
  }
 ],
 "metadata": {
  "kernelspec": {
   "display_name": "Python (ds)",
   "language": "python",
   "name": "ds"
  },
  "language_info": {
   "codemirror_mode": {
    "name": "ipython",
    "version": 3
   },
   "file_extension": ".py",
   "mimetype": "text/x-python",
   "name": "python",
   "nbconvert_exporter": "python",
   "pygments_lexer": "ipython3",
   "version": "3.12.11"
  }
 },
 "nbformat": 4,
 "nbformat_minor": 5
}
